{
 "cells": [
  {
   "cell_type": "code",
   "execution_count": null,
   "metadata": {
    "id": "T_k75h6YIw3i"
   },
   "outputs": [],
   "source": [
    "!pip install whoosh\r\n",
    "!pip install allennlp\r\n",
    "!pip install allennlp_models"
   ]
  },
  {
   "cell_type": "code",
   "execution_count": null,
   "metadata": {
    "id": "0DFq1A8zGr27"
   },
   "outputs": [],
   "source": [
    "from whoosh.fields import Schema, TEXT, ID\r\n",
    "from whoosh import index\r\n",
    "import os, os.path\r\n",
    "from whoosh import index\r\n",
    "from whoosh import qparser\r\n",
    "from whoosh.qparser import QueryParser\r\n",
    "import time\r\n",
    "from allennlp.predictors.predictor import Predictor\r\n",
    "import allennlp_models.rc"
   ]
  },
  {
   "cell_type": "code",
   "execution_count": null,
   "metadata": {
    "id": "uatfiih6qy3q"
   },
   "outputs": [],
   "source": [
    "mrc = Predictor.from_path(\"https://storage.googleapis.com/allennlp-public-models/bidaf-elmo-model-2020.03.19.tar.gz\") # machine reading comprehension from Allen AI"
   ]
  },
  {
   "cell_type": "code",
   "execution_count": null,
   "metadata": {
    "id": "pX3SXT0XJzTZ"
   },
   "outputs": [],
   "source": [
    "file = open('ug-sentences.txt', mode='r') # open the regulations file\r\n",
    "data = file.readlines() # sentences are in new-lines"
   ]
  },
  {
   "cell_type": "code",
   "execution_count": null,
   "metadata": {
    "id": "drgS2ft3Iv1C"
   },
   "outputs": [],
   "source": [
    "schema = Schema(content = TEXT(stored = True)) # create schemea of only content (as of now)\r\n",
    "\r\n",
    "if not os.path.exists(\"index_dir\"): \r\n",
    "    os.mkdir(\"index_dir\")"
   ]
  },
  {
   "cell_type": "code",
   "execution_count": null,
   "metadata": {
    "id": "MclbryCrJdu5"
   },
   "outputs": [],
   "source": [
    "ix = index.create_in(\"index_dir\", schema) # initialize whoosh index with above schema\r\n",
    "writer = ix.writer()"
   ]
  },
  {
   "cell_type": "code",
   "execution_count": null,
   "metadata": {
    "id": "JzZW8LYDJkIr"
   },
   "outputs": [],
   "source": [
    "for i in range(len(data)):\r\n",
    "    writer.add_document(content = data[i]) # fill the index with sentences\r\n",
    "\r\n",
    "writer.commit()"
   ]
  },
  {
   "cell_type": "code",
   "execution_count": null,
   "metadata": {
    "id": "SprH5DMEKJ3h"
   },
   "outputs": [],
   "source": [
    "def index_search(dir_name, search_fields, search_query):\r\n",
    "\r\n",
    "    idx = index.open_dir(dir_name) # get index from the directory \r\n",
    "    schema = idx.schema # get schema\r\n",
    "    \r\n",
    "    og = qparser.OrGroup.factory(0.9) # OR group with sacling factor 0.9\r\n",
    "    mp = qparser.MultifieldParser(search_fields, schema, group = og) # multifield parser\r\n",
    "\r\n",
    "    q = mp.parse(search_query) # parse the query\r\n",
    "    \r\n",
    "    with ix.searcher() as searcher: # search\r\n",
    "        results = searcher.search(q, terms=True, limit = 10) # set limit as 10 or None.\r\n",
    "\r\n",
    "        # print(results[0:10]) # print top 10 results\r\n",
    "        # ctr = 0\r\n",
    "        # for i in results: # print\r\n",
    "        #     print(i['content'])\r\n",
    "        #     ctr += 1\r\n",
    "        #     if ctr == 10:\r\n",
    "        #         break\r\n",
    "\r\n",
    "        result_arr = []\r\n",
    "        for i in range(0,10):\r\n",
    "            try:\r\n",
    "                result_arr.append(results[i]['content']) # get only the plaintext answer\r\n",
    "            except:\r\n",
    "                pass\r\n",
    "\r\n",
    "        # return results[0]['content'] # return only top result\r\n",
    "        \r\n",
    "        return result_arr"
   ]
  },
  {
   "cell_type": "code",
   "execution_count": null,
   "metadata": {
    "id": "bWCJXvKDlz9b"
   },
   "outputs": [],
   "source": [
    "def process_query(query, mrc = False):\r\n",
    "    start = time.time()\r\n",
    "    print('QUESTION:', query)\r\n",
    "\r\n",
    "    answers = index_search(\"index_dir\", ['content'], query) # search for the query\r\n",
    "\r\n",
    "    print('ANSWER:')\r\n",
    "\r\n",
    "    if mrc:\r\n",
    "        passage = '\\n'.join(answer for answer in answers) # join the top results as a passsage\r\n",
    "        answer = mrc.predict(query, passage)[\"best_span_str\"].split('.') # get best prediction/answer\r\n",
    "        print(answer[0]) # answer with MRC, approx 10 sec\r\n",
    "    else:\r\n",
    "        print(answers[0]) # answer without MRC, approx 0.01 sec\r\n",
    "        \r\n",
    "    \r\n",
    "    end = time.time()\r\n",
    "    print('Time taken:', round(100 * (end - start))/100, 'secs')\r\n",
    "    print('-' * 50)\r\n",
    "    print()\r\n",
    "\r\n",
    "    # return answer"
   ]
  },
  {
   "cell_type": "code",
   "execution_count": null,
   "metadata": {
    "colab": {
     "base_uri": "https://localhost:8080/"
    },
    "id": "xzmo-8B-KSPr",
    "outputId": "9c5f7bbb-2041-4e22-81bb-18e481616378"
   },
   "outputs": [
    {
     "name": "stdout",
     "output_type": "stream",
     "text": [
      "QUESTION: What is the normal load for UG students\n",
      "ANSWER:\n",
      "Normal load for the first and second year students is 16-20 credits and for the third and fourth year students is 16-22 credits.\n",
      "\n",
      "Time taken: 0.01 secs\n",
      "--------------------------------------------------\n",
      "\n",
      "QUESTION: If I fail a course and take it again in the later semester, will my earlier course with F grade be removed from the transcript\n",
      "ANSWER:\n",
      "The pass grade for the respective course will count towards the SGPA of the semester in which the course is passed and not in the semester where F’ grade was awarded.\n",
      "\n",
      "Time taken: 0.01 secs\n",
      "--------------------------------------------------\n",
      "\n",
      "QUESTION: what is the process of registration?\n",
      "ANSWER:\n",
      "The number of seats and the process for application and admission are described in each year’s prospectus.\n",
      "\n",
      "Time taken: 0.0 secs\n",
      "--------------------------------------------------\n",
      "\n",
      "QUESTION: how many seats are there in cse for admission?\n",
      "ANSWER:\n",
      "Some seats may be reserved for foreign students.\n",
      "\n",
      "Time taken: 0.0 secs\n",
      "--------------------------------------------------\n",
      "\n",
      "QUESTION: what is the admission criteria for btech\n",
      "ANSWER:\n",
      "Details about the admission criteria and entrance test(s) whose scores are to be used, are announced through the admission prospectus each year.\n",
      "\n",
      "Time taken: 0.0 secs\n",
      "--------------------------------------------------\n",
      "\n",
      "QUESTION: I am in 1st year. Can I take overload?\n",
      "ANSWER:\n",
      "First year students cannot take any overload.\n",
      "\n",
      "Time taken: 0.0 secs\n",
      "--------------------------------------------------\n",
      "\n",
      "QUESTION: I am in 2nd year. Can I take overload?\n",
      "ANSWER:\n",
      "Out of to 6 credits of courses that are offered during the summer term (inclusive of SG or CW credits), for students who have completed the 2nd year of to 6 credits of courses that are offered during the summer term (inclusive of SG or CW credits) btech program, may be allowed to take up to 4 credits for IP or IS or UR or BTP.\n",
      "\n",
      "Time taken: 0.0 secs\n",
      "--------------------------------------------------\n",
      "\n",
      "QUESTION: what happens if I miss the endsem because of a medical reason?\n",
      "ANSWER:\n",
      "For courses other than project  or  independent study, incomplete grade I is meant primarily for medical reasons.\n",
      "\n",
      "Time taken: 0.0 secs\n",
      "--------------------------------------------------\n",
      "\n",
      "QUESTION: what happens if I fail a course?\n",
      "ANSWER:\n",
      "The F and X grades are fail grades and the student shall be required to repeat the course.\n",
      "\n",
      "Time taken: 0.0 secs\n",
      "--------------------------------------------------\n",
      "\n",
      "QUESTION: what happens if I get an F grade in a course?\n",
      "ANSWER:\n",
      "The Institute reserves the right to get the medical certificate verified from the Institute Doctor.\n",
      "\n",
      "Time taken: 0.01 secs\n",
      "--------------------------------------------------\n",
      "\n",
      "QUESTION: Can i take 8 credits of online courses in a semester\n",
      "ANSWER:\n",
      "A student can take upto 8 credits of Online Courses in A student btech degree.\n",
      "\n",
      "Time taken: 0.01 secs\n",
      "--------------------------------------------------\n",
      "\n",
      "QUESTION: how many credits do i need to graduate\n",
      "ANSWER:\n",
      "btech students are allowed to do extra credits\" beyond 156 credits required for completion of btech requirement.\n",
      "\n",
      "Time taken: 0.01 secs\n",
      "--------------------------------------------------\n",
      "\n",
      "QUESTION: how is my semester graded\n",
      "ANSWER:\n",
      "The semester timeline shall be defined in the academic calendar and will be broadly the following.\n",
      "\n",
      "Time taken: 0.01 secs\n",
      "--------------------------------------------------\n",
      "\n",
      "QUESTION: what if I do more than 156 credits in my btech course\n",
      "ANSWER:\n",
      "btech students are allowed to do extra credits\" beyond 156 credits required for completion of btech requirement.\n",
      "\n",
      "Time taken: 0.01 secs\n",
      "--------------------------------------------------\n",
      "\n",
      "QUESTION: How is sgpa calculated\n",
      "ANSWER:\n",
      "Each letter grade carries certain points as given in the table, and these points are used in the computation of the SGPA or CGPA as explained later.\n",
      "\n",
      "Time taken: 0.01 secs\n",
      "--------------------------------------------------\n",
      "\n",
      "QUESTION: formula for sgpa\n",
      "ANSWER:\n",
      "The SGPA is given for each semester and is computed using the following formula.\n",
      "\n",
      "Time taken: 0.0 secs\n",
      "--------------------------------------------------\n",
      "\n"
     ]
    }
   ],
   "source": [
    "process_query('What is the normal load for UG students')\r\n",
    "process_query('If I fail a course and take it again in the later semester, will my earlier course with F grade be removed from the transcript')\r\n",
    "process_query('what is the process of registration?')\r\n",
    "process_query('how many seats are there in cse for admission?')\r\n",
    "process_query('what is the admission criteria for btech')\r\n",
    "process_query('I am in 1st year. Can I take overload?')\r\n",
    "process_query('I am in 2nd year. Can I take overload?')\r\n",
    "process_query('what happens if I miss the endsem because of a medical reason?')\r\n",
    "process_query('what happens if I fail a course?')\r\n",
    "process_query('what happens if I get an F grade in a course?')\r\n",
    "process_query('Can i take 8 credits of online courses in a semester')\r\n",
    "process_query('how many credits do i need to graduate')\r\n",
    "process_query('how is my semester graded')\r\n",
    "process_query('what if I do more than 156 credits in my btech course')\r\n",
    "process_query('How is sgpa calculated')\r\n",
    "process_query('formula for sgpa')"
   ]
  },
  {
   "cell_type": "markdown",
   "metadata": {
    "id": "SXLUBJxC-Kuk"
   },
   "source": [
    "### Generating txt files from json"
   ]
  },
  {
   "cell_type": "code",
   "execution_count": null,
   "metadata": {
    "id": "6dTl2ezY33h9"
   },
   "outputs": [],
   "source": [
    "import json"
   ]
  },
  {
   "cell_type": "code",
   "execution_count": null,
   "metadata": {
    "id": "PlN90m4k3_Uw"
   },
   "outputs": [],
   "source": [
    "with open('ugr.json') as f:\r\n",
    "  js = json.load(f)"
   ]
  },
  {
   "cell_type": "code",
   "execution_count": null,
   "metadata": {
    "id": "v41xaZmR4Gt0"
   },
   "outputs": [],
   "source": [
    "js = dict(js)"
   ]
  },
  {
   "cell_type": "code",
   "execution_count": null,
   "metadata": {
    "id": "L5HTT-Lb4Kib"
   },
   "outputs": [],
   "source": [
    "f = open('ug-sentences.txt','w')\r\n",
    "for i in range(0,291):\r\n",
    "    f.write(str(js['vertices']['sentences'][i]['text'])+'\\n')\r\n",
    "f.close()"
   ]
  },
  {
   "cell_type": "code",
   "execution_count": null,
   "metadata": {
    "id": "mnY1Uwqg9cZP"
   },
   "outputs": [],
   "source": [
    "f = open('ug-paragraphs.txt','w')\r\n",
    "for i in range(0,133):\r\n",
    "    f.write(str(js['vertices']['paragraphs'][i]['text'])+'\\n')\r\n",
    "f.close()"
   ]
  }
 ],
 "metadata": {
  "colab": {
   "collapsed_sections": [
    "SXLUBJxC-Kuk"
   ],
   "name": "Chatbot.ipynb",
   "provenance": []
  },
  "kernelspec": {
   "display_name": "Python 3",
   "language": "python",
   "name": "python3"
  },
  "language_info": {
   "codemirror_mode": {
    "name": "ipython",
    "version": 3
   },
   "file_extension": ".py",
   "mimetype": "text/x-python",
   "name": "python",
   "nbconvert_exporter": "python",
   "pygments_lexer": "ipython3",
   "version": "3.8.2"
  }
 },
 "nbformat": 4,
 "nbformat_minor": 4
}
