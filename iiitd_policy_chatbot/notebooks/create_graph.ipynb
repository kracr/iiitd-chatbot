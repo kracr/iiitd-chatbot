{
 "cells": [
  {
   "cell_type": "markdown",
   "metadata": {},
   "source": [
    "# Convert triples to Graph\n",
    "1. Node representing sentence s\n",
    "2. Node representing extraction e\n",
    "3. s -- contains --> e\n",
    "4. e -- e[rel] --> e[subject]\n",
    "5. e -- object --> e[obj][i]\n",
    "6. e -- negated --> e[negated]\n",
    "7. e -- enabler --> e[enabler]\n",
    "8. e -- attribute to --> e[attribution]\n"
   ]
  },
  {
   "cell_type": "code",
   "execution_count": 58,
   "metadata": {},
   "outputs": [
    {
     "name": "stdout",
     "output_type": "stream",
     "text": [
      "Collecting pydot\n",
      "  Downloading pydot-1.4.1-py2.py3-none-any.whl (19 kB)\n",
      "Requirement already satisfied: pyparsing>=2.1.4 in /Library/Frameworks/Python.framework/Versions/3.8/lib/python3.8/site-packages (from pydot) (2.4.7)\n",
      "Installing collected packages: pydot\n",
      "Successfully installed pydot-1.4.1\n"
     ]
    }
   ],
   "source": [
    "!pip3 install pydot\n",
    "import json\n",
    "\n",
    "def read_text(filename):\n",
    "    raw_text = ''\n",
    "    with open(filename) as file:\n",
    "        for line in file:\n",
    "            raw_text += line\n",
    "    return raw_text\n",
    "\n",
    "def write_text(text, filename):\n",
    "    with open(filename, 'w') as file:\n",
    "        for line in text:\n",
    "            file.write(line)\n",
    "            \n",
    "def read_json(filename):\n",
    "    with open(filename) as file:\n",
    "        data = json.load(file)\n",
    "    return data\n",
    "\n",
    "def write_json(data, filename):\n",
    "    with open(filename, 'w') as file:\n",
    "        json.dump(data, file)"
   ]
  },
  {
   "cell_type": "code",
   "execution_count": 59,
   "metadata": {},
   "outputs": [],
   "source": [
    "def triples_to_graph(triples):\n",
    "    # types of nodes\n",
    "    s_nodes = set([])\n",
    "    e_nodes = set([])\n",
    "    entities = set([])\n",
    "\n",
    "    edges = []\n",
    "    \n",
    "    sentence_count = 0\n",
    "    extraction_count = 0\n",
    "    for sentence in triples:\n",
    "        \n",
    "        sentence_count += 1\n",
    "        s_node = 's_' + str(sentence_count)\n",
    "        s_nodes.add(s_node)\n",
    "        \n",
    "        for extraction in triples[sentence]:\n",
    "            \n",
    "            extraction_count += 1\n",
    "            e_node = 'e_' + str(extraction_count)\n",
    "            e_nodes.add(e_node)\n",
    "            \n",
    "            # s -- contains --> e\n",
    "            edges.append((s_node, 'contains', e_node))\n",
    "            # e -- subject --> e[subject][i]\n",
    "            for sub in extraction['subject']:\n",
    "                entities.add(sub)\n",
    "                edges.append((e_node, 'subject', sub))                \n",
    "            # e -- e[relation][i] --> e[object][j]\n",
    "            for rel in extraction['relation']:\n",
    "                for obj in extraction['object']:\n",
    "                    entities.add(obj)\n",
    "                    edges.append((e_node, rel, obj))\n",
    "            # e -- e[modifiers][i][m_rel] --> e[modifiers][i][m_obj]\n",
    "            if 'modifiers1' in extraction:\n",
    "                for modifier in extraction['modifiers1']:\n",
    "                    for rel in modifier['m_rel']:\n",
    "                        for obj in modifier['m_obj']:\n",
    "                            entities.add(obj)\n",
    "                            edges.append((e_node, rel, obj))\n",
    "            if 'modifiers2' in extraction:\n",
    "                for modifier in extraction['modifiers2']:\n",
    "                    for rel in modifier['m_rel']:\n",
    "                        for obj in modifier['m_obj']:\n",
    "                            entities.add(obj)\n",
    "                            edges.append((e_node, rel, obj))\n",
    "\n",
    "            # e -- negated --> true\n",
    "            if 'negated' in extraction and extraction['negated']:\n",
    "                edges.append((e_node, 'negated', 'True'))\n",
    "            # e -- enabler --> e[enabler]\n",
    "            if 'enabler' in extraction and extraction['enabler']:\n",
    "                edges.append((e_node, 'enabler', extraction['enabler']))\n",
    "            # e -- attribute to --> e[attribution]\n",
    "            if 'attribution' in extraction and extraction['attribution']:\n",
    "                edges.append((e_node, 'attribute to', extraction['attribution']))\n",
    "\n",
    "    return edges, {'s_nodes': list(s_nodes), 'e_nodes': list(e_nodes), 'entities': list(entities)}"
   ]
  },
  {
   "cell_type": "markdown",
   "metadata": {},
   "source": [
    "# Plot Knowledge Graph"
   ]
  },
  {
   "cell_type": "code",
   "execution_count": 73,
   "metadata": {},
   "outputs": [],
   "source": [
    "from pyvis.network import Network\n",
    "import networkx as nx\n",
    "import matplotlib.pyplot as plt\n",
    "\n",
    "def plot_graph(graph, filename):\n",
    "    nx_graph = nx.DiGraph()\n",
    "    nodes = {}\n",
    "    type_count = 0\n",
    "    node_color = [0]\n",
    "    nx_graph.add_node('True')\n",
    "    for type in graph['vertices']:\n",
    "        type_count += 1\n",
    "        for node in graph['vertices'][type]:\n",
    "            nx_graph.add_node(node)\n",
    "            node_color.append(type_count)\n",
    "    for edge in graph['edges']:\n",
    "        nx_graph.add_edge(edge[0], edge[2], {'label': edge[1]})\n",
    "\n",
    "#     for edge in graph['similar_edges']:\n",
    "#         nx_graph.add_edge(edge[0], edge[2], color = 'r')\n",
    "#         edge_labels[(edge[0], edge[2])] = edge[1]\n",
    "\n",
    "\n",
    "    pos = nx.spring_layout(nx_graph)\n",
    "    nx.draw(nx_graph, pos, node_color = node_color, with_labels=True, font_size = 10)\n",
    "    edge_labels = nx.get_edge_attributes(nx_graph,'label')\n",
    "    nx.draw_networkx_edge_labels(nx_graph, pos, edge_labels = edge_labels, font_size = 10)\n",
    "    \n",
    "    figure = plt.gcf()\n",
    "    figure.set_size_inches(50, 50)\n",
    "    plt.savefig(filename, dpi=100)"
   ]
  },
  {
   "cell_type": "code",
   "execution_count": 74,
   "metadata": {},
   "outputs": [
    {
     "name": "stdout",
     "output_type": "stream",
     "text": [
      "204 208\n"
     ]
    },
    {
     "ename": "TypeError",
     "evalue": "add_edge() takes 3 positional arguments but 4 were given",
     "output_type": "error",
     "traceback": [
      "\u001b[0;31m---------------------------------------------------------------------------\u001b[0m",
      "\u001b[0;31mTypeError\u001b[0m                                 Traceback (most recent call last)",
      "\u001b[0;32m<ipython-input-74-7b981ac69123>\u001b[0m in \u001b[0;36m<module>\u001b[0;34m\u001b[0m\n\u001b[1;32m      6\u001b[0m     \u001b[0;34m'vertices'\u001b[0m\u001b[0;34m:\u001b[0m \u001b[0mvertices\u001b[0m\u001b[0;34m\u001b[0m\u001b[0;34m\u001b[0m\u001b[0m\n\u001b[1;32m      7\u001b[0m }, '../data/my_graph.json')\n\u001b[0;32m----> 8\u001b[0;31m plot_graph({\n\u001b[0m\u001b[1;32m      9\u001b[0m     \u001b[0;34m'edges'\u001b[0m\u001b[0;34m:\u001b[0m \u001b[0medges\u001b[0m\u001b[0;34m,\u001b[0m\u001b[0;34m\u001b[0m\u001b[0;34m\u001b[0m\u001b[0m\n\u001b[1;32m     10\u001b[0m     \u001b[0;34m'vertices'\u001b[0m\u001b[0;34m:\u001b[0m \u001b[0mvertices\u001b[0m\u001b[0;34m\u001b[0m\u001b[0;34m\u001b[0m\u001b[0m\n",
      "\u001b[0;32m<ipython-input-73-bcfe9c846c9c>\u001b[0m in \u001b[0;36mplot_graph\u001b[0;34m(graph, filename)\u001b[0m\n\u001b[1;32m     15\u001b[0m             \u001b[0mnode_color\u001b[0m\u001b[0;34m.\u001b[0m\u001b[0mappend\u001b[0m\u001b[0;34m(\u001b[0m\u001b[0mtype_count\u001b[0m\u001b[0;34m)\u001b[0m\u001b[0;34m\u001b[0m\u001b[0;34m\u001b[0m\u001b[0m\n\u001b[1;32m     16\u001b[0m     \u001b[0;32mfor\u001b[0m \u001b[0medge\u001b[0m \u001b[0;32min\u001b[0m \u001b[0mgraph\u001b[0m\u001b[0;34m[\u001b[0m\u001b[0;34m'edges'\u001b[0m\u001b[0;34m]\u001b[0m\u001b[0;34m:\u001b[0m\u001b[0;34m\u001b[0m\u001b[0;34m\u001b[0m\u001b[0m\n\u001b[0;32m---> 17\u001b[0;31m         \u001b[0mnx_graph\u001b[0m\u001b[0;34m.\u001b[0m\u001b[0madd_edge\u001b[0m\u001b[0;34m(\u001b[0m\u001b[0medge\u001b[0m\u001b[0;34m[\u001b[0m\u001b[0;36m0\u001b[0m\u001b[0;34m]\u001b[0m\u001b[0;34m,\u001b[0m \u001b[0medge\u001b[0m\u001b[0;34m[\u001b[0m\u001b[0;36m2\u001b[0m\u001b[0;34m]\u001b[0m\u001b[0;34m,\u001b[0m \u001b[0;34m{\u001b[0m\u001b[0;34m'label'\u001b[0m\u001b[0;34m:\u001b[0m \u001b[0medge\u001b[0m\u001b[0;34m[\u001b[0m\u001b[0;36m1\u001b[0m\u001b[0;34m]\u001b[0m\u001b[0;34m}\u001b[0m\u001b[0;34m)\u001b[0m\u001b[0;34m\u001b[0m\u001b[0;34m\u001b[0m\u001b[0m\n\u001b[0m\u001b[1;32m     18\u001b[0m \u001b[0;34m\u001b[0m\u001b[0m\n\u001b[1;32m     19\u001b[0m \u001b[0;31m#     for edge in graph['similar_edges']:\u001b[0m\u001b[0;34m\u001b[0m\u001b[0;34m\u001b[0m\u001b[0;34m\u001b[0m\u001b[0m\n",
      "\u001b[0;31mTypeError\u001b[0m: add_edge() takes 3 positional arguments but 4 were given"
     ]
    }
   ],
   "source": [
    "triples = read_json('../data/my_extractions.json')\n",
    "edges, vertices = triples_to_graph(triples)\n",
    "print(len(edges), len(vertices['s_nodes']) + len(vertices['e_nodes']) + len(vertices['entities']))\n",
    "write_json({\n",
    "    'edges': edges,\n",
    "    'vertices': vertices\n",
    "}, '../data/my_graph.json')\n",
    "plot_graph({\n",
    "    'edges': edges,\n",
    "    'vertices': vertices\n",
    "}, '../data/my_graph.png')\n",
    "\n",
    "# triples = read_json('../data/ollie_canonicalised_1_triples.json')\n",
    "# edges, vertices = triples_to_graph(triples)\n",
    "# plot_graph({\n",
    "#     'edges': edges,\n",
    "#     'vertices': vertices\n",
    "# }, '../data/ollie_graph_2.png')\n",
    "\n",
    "# triples = read_json('../data/openie5_triples.json')\n",
    "# edges, vertices = triples_to_graph(triples)\n",
    "# write_json({\n",
    "#     'edges': edges,\n",
    "#     'vertices': vertices\n",
    "# }, '../data/openie_graph.json')\n",
    "# plot_graph({\n",
    "#     'edges': edges,\n",
    "#     'vertices': vertices\n",
    "# }, '../data/openie5_graph.png')"
   ]
  },
  {
   "cell_type": "code",
   "execution_count": null,
   "metadata": {},
   "outputs": [],
   "source": []
  },
  {
   "cell_type": "code",
   "execution_count": null,
   "metadata": {},
   "outputs": [],
   "source": []
  }
 ],
 "metadata": {
  "kernelspec": {
   "display_name": "Python 3",
   "language": "python",
   "name": "python3"
  },
  "language_info": {
   "codemirror_mode": {
    "name": "ipython",
    "version": 3
   },
   "file_extension": ".py",
   "mimetype": "text/x-python",
   "name": "python",
   "nbconvert_exporter": "python",
   "pygments_lexer": "ipython3",
   "version": "3.8.2"
  }
 },
 "nbformat": 4,
 "nbformat_minor": 4
}
