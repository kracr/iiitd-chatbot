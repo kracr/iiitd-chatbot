{
 "cells": [
  {
   "cell_type": "code",
   "execution_count": 1,
   "metadata": {},
   "outputs": [],
   "source": [
    "from helper import *\n",
    "from tqdm import tqdm"
   ]
  },
  {
   "cell_type": "code",
   "execution_count": 2,
   "metadata": {},
   "outputs": [],
   "source": [
    "import numpy as np\n",
    "from sklearn.linear_model import LogisticRegression\n",
    "from sklearn.metrics import plot_precision_recall_curve, recall_score\n",
    "from sklearn.model_selection import train_test_split, KFold\n",
    "from sklearn.decomposition import PCA"
   ]
  },
  {
   "cell_type": "code",
   "execution_count": 7,
   "metadata": {},
   "outputs": [
    {
     "name": "stderr",
     "output_type": "stream",
     "text": [
      "100%|██████████| 43/43 [00:02<00:00, 15.38it/s]"
     ]
    },
    {
     "name": "stdout",
     "output_type": "stream",
     "text": [
      "[1.0, 0.08477825938134742, 0.4808983469629878, 0.08477825938134742, 0.4808983469629878, 0.0, 0.0, 0.0, True]\n"
     ]
    },
    {
     "name": "stderr",
     "output_type": "stream",
     "text": [
      "\n"
     ]
    }
   ],
   "source": [
    "answers = read_json('../data/kg/answers.json')\n",
    "questions = list(answers.keys())\n",
    "questions_train, questions_test = train_test_split(questions, random_state = 0, test_size = 0.5)\n",
    "data = []\n",
    "positives = 0\n",
    "for q in tqdm(questions_train):\n",
    "    q_len = len(find_keywords(q))\n",
    "    for sentence in answers[q]:\n",
    "        positives += sentence['isCorrect']\n",
    "        row = [sentence['sent_stemmed_overlap'], sentence['sent_text'], sentence['sent_tokens'], sentence['nbr_text'], sentence['nbr_tokens'], sentence['topic1'], sentence['topic2'], sentence['answer_type']]\n",
    "        row = list(map(lambda x: x/q_len, row))\n",
    "        row.append(sentence['isCorrect'])\n",
    "        data.append(row)\n",
    "print(data[0])\n"
   ]
  },
  {
   "cell_type": "code",
   "execution_count": 8,
   "metadata": {},
   "outputs": [
    {
     "name": "stderr",
     "output_type": "stream",
     "text": [
      "100%|██████████| 43/43 [00:03<00:00, 11.24it/s]\n"
     ]
    },
    {
     "name": "stdout",
     "output_type": "stream",
     "text": [
      "[21, 25, 25, 29, 31, 32, 32, 33, 34, 34, 34, 35, 36, 37, 38, 39, 39, 39, 41, 41] 43\n"
     ]
    },
    {
     "data": {
      "image/png": "[encoded data removed]",
      "text/plain": [
       "<Figure size 432x288 with 1 Axes>"
      ]
     },
     "metadata": {
      "needs_background": "light"
     },
     "output_type": "display_data"
    }
   ],
   "source": [
    "weights = [1] * 8\n",
    "k = 20\n",
    "top_k = [0 for i in range(k)]\n",
    "for q in tqdm(questions_test):\n",
    "    q_len = len(find_keywords(q))\n",
    "    ranks = []\n",
    "    for sentence in answers[q]:\n",
    "        positives += sentence['isCorrect']\n",
    "        row = [sentence['sent_stemmed_overlap'], sentence['sent_text'], sentence['sent_tokens'], sentence['nbr_text'], sentence['nbr_tokens'], sentence['topic1'], sentence['topic2'], sentence['answer_type']]\n",
    "        row = list(map(lambda x: x/q_len, row))\n",
    "        score = sum([row[i] * weights[i] for i in range(len(row))])\n",
    "        ranks.append((score, sentence['isCorrect']))\n",
    "    ranks.sort(reverse = True)\n",
    "    ranks = ranks[:k]\n",
    "    found = False\n",
    "    for i in range(k):\n",
    "        if i < len(ranks) and ranks[i][1]:\n",
    "            found = True\n",
    "        if found:\n",
    "            top_k[i] += 1\n",
    "print(top_k, len(questions_test))\n",
    "top_k = list(map(lambda x: x/len(questions_test), top_k))\n",
    "import matplotlib.pyplot as plt\n",
    "plt.bar(range(1, k + 1),top_k)\n",
    "plt.bar(range(1, k + 1), list(map(lambda x: 1 - x, top_k)), bottom = top_k)\n",
    "plt.xlabel('k')\n",
    "plt.ylabel('fraction of questions with answer in top k results')\n",
    "plt.title('Performance with equal weightage of all measures')\n",
    "plt.savefig('../data/kg/performance_without_reranking')\n",
    "plt.show()"
   ]
  },
  {
   "cell_type": "code",
   "execution_count": 9,
   "metadata": {},
   "outputs": [
    {
     "name": "stdout",
     "output_type": "stream",
     "text": [
      "61\n",
      "weights: [1.43521499 8.11611115 1.17422677 0.63320961 1.17422677 1.41831544\n",
      " 0.60945888 0.        ]\n",
      "accuracy: 0.8948571428571429 recall: 0.5833333333333334\n",
      "\n",
      "weights: [1.44536789 5.75186683 0.9485656  1.83149021 0.9485656  1.53953676\n",
      " 0.93274203 0.        ]\n",
      "accuracy: 0.8845714285714286 recall: 0.7\n",
      "\n",
      "weights: [1.07771522 6.07319056 0.80014353 1.97900353 0.80014353 1.52287968\n",
      " 0.96735058 0.        ]\n",
      "accuracy: 0.9005714285714286 recall: 0.7142857142857143\n",
      "\n",
      "weights: [2.14790227 6.75987016 0.67565559 1.48550616 0.67565559 1.53185039\n",
      " 0.88588926 0.        ]\n",
      "accuracy: 0.8981693363844394 recall: 0.4444444444444444\n",
      "\n",
      "weights: [1.59285005 5.58158161 0.88877755 1.67048323 0.88877755 1.41899997\n",
      " 0.98033186 0.        ]\n",
      "accuracy: 0.9084668192219679 recall: 0.4375\n",
      "\n"
     ]
    }
   ],
   "source": [
    "clf = LogisticRegression(class_weight = {0: positives, 1: len(data) - positives})\n",
    "X = np.array([list(map(float, row[:-1])) for row in data])\n",
    "y = np.array([int(row[-1]) for row in data])\n",
    "print([i for i in y].count(1))\n",
    "\n",
    "for train_index, test_index in KFold(n_splits = 5, shuffle = True, random_state = 0).split(X):\n",
    "    X_train, X_test = X[train_index], X[test_index]\n",
    "    y_train, y_test = y[train_index], y[test_index]\n",
    "    clf.fit(X_train, y_train)\n",
    "    print('weights:', clf.coef_[0])\n",
    "    print('accuracy:', clf.score(X_test, y_test), 'recall:', recall_score(y_test, clf.predict(X_test)))\n",
    "    print()\n",
    "clf.fit(X, y)\n",
    "weights = clf.coef_[0]"
   ]
  },
  {
   "cell_type": "code",
   "execution_count": 22,
   "metadata": {},
   "outputs": [
    {
     "name": "stderr",
     "output_type": "stream",
     "text": [
      "  5%|▍         | 2/43 [00:00<00:03, 11.45it/s]"
     ]
    },
    {
     "name": "stdout",
     "output_type": "stream",
     "text": [
      "weights: [1.51643347 6.35836891 0.89685278 1.60378636 0.89685278 1.47544813\n",
      " 0.88040862 0.        ]\n"
     ]
    },
    {
     "name": "stderr",
     "output_type": "stream",
     "text": [
      "100%|██████████| 43/43 [00:01<00:00, 22.42it/s]\n"
     ]
    },
    {
     "name": "stdout",
     "output_type": "stream",
     "text": [
      "[18, 22, 26, 31, 34, 36, 38, 38, 38, 38, 38, 39, 39, 39, 40, 41, 41, 41, 41, 41] 43\n"
     ]
    },
    {
     "data": {
      "image/png": "[encoded data removed]",
      "text/plain": [
       "<Figure size 432x288 with 1 Axes>"
      ]
     },
     "metadata": {
      "needs_background": "light"
     },
     "output_type": "display_data"
    }
   ],
   "source": [
    "print('weights:', weights)\n",
    "k = 20\n",
    "top_k = [0 for i in range(k)]\n",
    "for q in tqdm(questions_test):\n",
    "    q_len = len(find_keywords(q))\n",
    "    ranks = []\n",
    "    for sentence in answers[q]:\n",
    "        positives += sentence['isCorrect']\n",
    "        row = [sentence['sent_stemmed_overlap'], sentence['sent_text'], sentence['sent_tokens'], sentence['nbr_text'], sentence['nbr_tokens'], sentence['topic1'], sentence['topic2'], sentence['answer_type']]\n",
    "        row = list(map(lambda x: x/q_len, row))\n",
    "        score = sum([row[i] * weights[i] for i in range(len(row))])\n",
    "        ranks.append((score, sentence['isCorrect']))\n",
    "    ranks.sort(reverse = True)\n",
    "    ranks = ranks[:k]\n",
    "    found = False\n",
    "    for i in range(k):\n",
    "        if i < len(ranks) and ranks[i][1]:\n",
    "            found = True\n",
    "        if found:\n",
    "            top_k[i] += 1\n",
    "print(top_k, len(questions_test))\n",
    "top_k = list(map(lambda x: x/len(questions_test), top_k))\n",
    "import matplotlib.pyplot as plt\n",
    "plt.bar(range(1, k + 1),top_k)\n",
    "plt.bar(range(1, k + 1), list(map(lambda x: 1 - x, top_k)), bottom = top_k)\n",
    "plt.xlabel('k')\n",
    "plt.ylabel('fraction of questions with answer in top k results')\n",
    "plt.title('Performance with computed weightages of measures')\n",
    "plt.savefig('../data/kg/performance_with_reranking')\n",
    "plt.show()"
   ]
  },
  {
   "cell_type": "code",
   "execution_count": 32,
   "metadata": {},
   "outputs": [
    {
     "name": "stdout",
     "output_type": "stream",
     "text": [
      "0.558485603543743\n",
      "0.587648664744748\n"
     ]
    }
   ],
   "source": [
    "top_k = [18, 22, 26, 31, 34, 36, 38, 38, 38, 38, 38, 39, 39, 39, 40, 41, 41, 41, 41, 41]\n",
    "a = 0\n",
    "for i in range(len(top_k)):\n",
    "    top_k[i] -= a\n",
    "    a += top_k[i]\n",
    "    top_k[i] /= (i + 1)\n",
    "print(sum(top_k)/43)\n",
    "\n",
    "top_k = [21, 25, 25, 29, 31, 32, 32, 33, 34, 34, 34, 35, 36, 37, 38, 39, 39, 39, 41, 41]\n",
    "a = 0\n",
    "for i in range(len(top_k)):\n",
    "    top_k[i] -= a\n",
    "    a += top_k[i]\n",
    "    top_k[i] /= (i + 1)\n",
    "print(sum(top_k)/43)\n"
   ]
  },
  {
   "cell_type": "code",
   "execution_count": 24,
   "metadata": {},
   "outputs": [
    {
     "name": "stdout",
     "output_type": "stream",
     "text": [
      "0.16511627906976747\n"
     ]
    }
   ],
   "source": [
    "print(sum(top_k)/20)"
   ]
  },
  {
   "cell_type": "code",
   "execution_count": null,
   "metadata": {},
   "outputs": [],
   "source": []
  }
 ],
 "metadata": {
  "kernelspec": {
   "display_name": "Python 3",
   "language": "python",
   "name": "python3"
  },
  "language_info": {
   "codemirror_mode": {
    "name": "ipython",
    "version": 3
   },
   "file_extension": ".py",
   "mimetype": "text/x-python",
   "name": "python",
   "nbconvert_exporter": "python",
   "pygments_lexer": "ipython3",
   "version": "3.8.2"
  }
 },
 "nbformat": 4,
 "nbformat_minor": 4
}
