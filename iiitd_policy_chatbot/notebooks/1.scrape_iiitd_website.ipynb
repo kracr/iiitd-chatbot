{
 "cells": [
  {
   "cell_type": "code",
   "execution_count": 1,
   "metadata": {},
   "outputs": [],
   "source": [
    "from bs4 import BeautifulSoup, Comment\n",
    "from selenium import webdriver\n",
    "from selenium.webdriver.chrome.options import Options\n",
    "from selenium.webdriver.common.by import By\n",
    "from requests import get\n",
    "import os\n",
    "import time\n",
    "import helper"
   ]
  },
  {
   "cell_type": "code",
   "execution_count": 2,
   "metadata": {},
   "outputs": [
    {
     "name": "stdout",
     "output_type": "stream",
     "text": [
      "/Users/osheensachdev/btp/iiitd_policy_chatbot/notebooks/../selenium/chromedriver\n"
     ]
    }
   ],
   "source": [
    "opts = Options()\n",
    "opts.add_argument(\" — headless\")\n",
    "chrome_driver = os.getcwd() +\"/../selenium/chromedriver\"\n",
    "print(chrome_driver)\n",
    "driver = webdriver.Chrome(options=opts, executable_path=chrome_driver)\n",
    "# Load the HTML page\n",
    "url = 'https://www.iiitd.ac.in/search/google/policy'\n",
    "driver.get(url)\n"
   ]
  },
  {
   "cell_type": "code",
   "execution_count": 3,
   "metadata": {},
   "outputs": [],
   "source": [
    "documents = []\n",
    "for page in range(4):\n",
    "    page_links = driver.find_elements_by_class_name('gsc-cursor-page')\n",
    "    page_links[page].click()\n",
    "    time.sleep(2)\n",
    "    soup = BeautifulSoup(driver.page_source, 'html.parser')\n",
    "    results = soup.find_all('a', class_ = 'gs-title', href = True)\n",
    "    documents += list(map(lambda x: {'name': x.get_text(), 'link': x['href']}, results))\n",
    "documents = {document['link']: document for document in documents}\n",
    "documents = list(documents.values())"
   ]
  },
  {
   "cell_type": "code",
   "execution_count": 4,
   "metadata": {},
   "outputs": [],
   "source": [
    "for document in documents:\n",
    "    if document['link'][-4:] == '.pdf':\n",
    "        document['format'] = 'pdf'\n",
    "    else:\n",
    "        document['format'] = 'html'"
   ]
  },
  {
   "cell_type": "code",
   "execution_count": 5,
   "metadata": {},
   "outputs": [
    {
     "name": "stdout",
     "output_type": "stream",
     "text": [
      "Academic Dishonesty Policy\n",
      "Evaluation Policy\n",
      "Placement Procedure & Policies\n",
      "Green Policy\n",
      "Privacy Policy\n",
      "Student Conduct Policy\n",
      "Refund / Cancellation Policy\n",
      "Hostel Policies\n",
      "Allocation Policies\n",
      "Internships @ IIIT-D\n",
      "Internal Forms and Docs\n",
      "Aasim Khan\n",
      "Disciplinary Action\n",
      "Facility Management Services\n",
      "B.Tech. Fee Waiver\n",
      "Academic Resources\n",
      "FAQ about M.Tech. Admissions 2020\n",
      "M.Tech (CSE & ECE) Admission Details 2019\n",
      "M.Tech. (CSE & ECE) Admission Details 2020\n",
      "Rules and Procedures\n",
      "Fee Schedule for AY 2020-2021\n",
      "Sumit J Darak\n",
      "Anubha Gupta\n",
      "FAQ about M.Tech Admissions 2019\n",
      "M.Tech. (CSE, ECE and CB)\n",
      "M.Tech. Assistantship & Studentship\n",
      "Faculty Recruitment\n"
     ]
    }
   ],
   "source": [
    "for document in documents:\n",
    "    if document['format'] == 'html':\n",
    "        driver.get(document['link'])\n",
    "        time.sleep(2)\n",
    "        soup = BeautifulSoup(driver.page_source, 'html.parser')\n",
    "        body = soup.find('div', id = 'content-wrap')\n",
    "        if not body:\n",
    "            continue\n",
    "        title = body.find(class_ = 'page-title')\n",
    "        if not title:\n",
    "            continue\n",
    "        print(title.get_text())\n",
    "        document['title'] = title.get_text()\n",
    "        document['body'] = str(body)"
   ]
  },
  {
   "cell_type": "code",
   "execution_count": null,
   "metadata": {},
   "outputs": [],
   "source": []
  },
  {
   "cell_type": "markdown",
   "metadata": {},
   "source": [
    "# Process html files"
   ]
  },
  {
   "cell_type": "code",
   "execution_count": 6,
   "metadata": {},
   "outputs": [],
   "source": [
    "order = {\n",
    "    'h0': 0,\n",
    "    'h1': 1,\n",
    "    'h2': 2,\n",
    "    'h3': 3,\n",
    "    'h4': 4,\n",
    "    'h5': 5,\n",
    "    'h6': 6,\n",
    "    'strong': 10,\n",
    "    'em': 11,\n",
    "    'p': 20,\n",
    "    'a': 20,\n",
    "    'div': 20,\n",
    "    'span': 20,\n",
    "    'ol': 21,\n",
    "    'li': 21,\n",
    "}\n",
    "\n",
    "for document in documents:\n",
    "    if document['format'] != 'html' or 'body' not in document:\n",
    "        continue\n",
    "    body = BeautifulSoup(document['body'], 'html.parser')\n",
    "    comments = body.findAll(text=lambda text:isinstance(text, Comment))\n",
    "    for comment in comments:\n",
    "        comment.extract()\n",
    "\n",
    "    content = []\n",
    "    stack = [body]\n",
    "    elements = body.find_all(text = True)\n",
    "    for element in elements:\n",
    "        if str(element) == 'here' or len(str(element).split()) == 0:\n",
    "            continue\n",
    "        temp = element\n",
    "        size = 100\n",
    "        while temp.parent:\n",
    "            temp = temp.parent\n",
    "            if temp.name == 'table' or temp.href:\n",
    "                size = 100\n",
    "                break\n",
    "            if temp.name in order:\n",
    "                size = min(size, order[temp.name])\n",
    "        if size == 100:\n",
    "            continue\n",
    "        content.append((str(element), size))\n",
    "        print(size, str(element))\n",
    "    document['content'] = content"
   ]
  },
  {
   "cell_type": "code",
   "execution_count": 7,
   "metadata": {},
   "outputs": [],
   "source": [
    "helper.write_json(documents, '../data/files/iiit_website_content.json')"
   ]
  },
  {
   "cell_type": "code",
   "execution_count": null,
   "metadata": {},
   "outputs": [],
   "source": []
  }
 ],
 "metadata": {
  "kernelspec": {
   "display_name": "Python 3",
   "language": "python",
   "name": "python3"
  },
  "language_info": {
   "codemirror_mode": {
    "name": "ipython",
    "version": 3
   },
   "file_extension": ".py",
   "mimetype": "text/x-python",
   "name": "python",
   "nbconvert_exporter": "python",
   "pygments_lexer": "ipython3",
   "version": "3.8.2"
  }
 },
 "nbformat": 4,
 "nbformat_minor": 4
}
