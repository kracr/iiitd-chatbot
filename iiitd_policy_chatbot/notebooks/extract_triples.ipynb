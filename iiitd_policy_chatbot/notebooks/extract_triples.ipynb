{
 "cells": [
  {
   "cell_type": "markdown",
   "metadata": {},
   "source": [
    "# Extract triples using OpenIE 5 and OLLIE"
   ]
  },
  {
   "cell_type": "code",
   "execution_count": 2,
   "metadata": {},
   "outputs": [],
   "source": [
    "import json\n",
    "import os\n",
    "import tempfile\n",
    "from pathlib import Path\n",
    "from subprocess import Popen\n",
    "import sys\n",
    "\n",
    "sys.path.insert(1, '../ClausIE')\n",
    "import clausie_api\n",
    "\n",
    "sys.path.insert(1, '../StanfordOpenIE')\n",
    "from openie import StanfordOpenIE\n",
    "\n",
    "from pyopenie import OpenIE5\n",
    "\n",
    "def read_text(filename):\n",
    "    raw_text = ''\n",
    "    with open(filename) as file:\n",
    "        for line in file:\n",
    "            raw_text += line\n",
    "    return raw_text\n",
    "\n",
    "def write_text(text, filename):\n",
    "    with open(filename, 'w') as file:\n",
    "        for line in text:\n",
    "            file.write(line)\n",
    "            \n",
    "def read_json(filename):\n",
    "    with open(filename) as file:\n",
    "        data = json.load(file)\n",
    "    return data\n",
    "\n",
    "def write_json(data, filename):\n",
    "    with open(filename, 'w') as file:\n",
    "        json.dump(data, file)"
   ]
  },
  {
   "cell_type": "markdown",
   "metadata": {},
   "source": [
    "## ClausIE"
   ]
  },
  {
   "cell_type": "code",
   "execution_count": 3,
   "metadata": {},
   "outputs": [
    {
     "ename": "UnboundLocalError",
     "evalue": "local variable 'num_clauses' referenced before assignment",
     "output_type": "error",
     "traceback": [
      "\u001b[0;31m---------------------------------------------------------------------------\u001b[0m",
      "\u001b[0;31mUnboundLocalError\u001b[0m                         Traceback (most recent call last)",
      "\u001b[0;32m<ipython-input-3-874ed618e7a7>\u001b[0m in \u001b[0;36m<module>\u001b[0;34m\u001b[0m\n\u001b[1;32m      2\u001b[0m \u001b[0mtext\u001b[0m \u001b[0;34m=\u001b[0m \u001b[0;34m'Barack Hussein Obama II is an American politician and attorney who served as the 44th president of the United States from 2009 to 2017.Barack Hussein Obama II previously served as a U.S. senator from Illinois from 2005 to 2008 and an Illinois state senator from 1997 to 2004. After graduating from Columbia University in 1983, he worked as a community organizer in Chicago. In 1988, he enrolled in Harvard Law School, where he was the first black person to be president of the Harvard Law Review. Turning to elective politics, he represented the 13th district from 1997 until 2004 in the Illinois Senate, when he ran for the Illinois Senate. Obama received national attention in 2004 with Obama the Illinois Senate the Illinois Senate primary win, Obama well-received July Democratic National Convention keynote address, and Obama landslide November election to the Illinois Senate. In 2008, Obama was nominated for president a year after Obama presidential campaign began, and after a close primary campaign against Hillary Clinton, Obama was elected over Republican nominee John McCain and was inaugurated alongside Joe Biden on January 20, 2009. Nine months later, Obama was named the 2009 Nobel Peace Prize laureate.'\u001b[0m\u001b[0;34m\u001b[0m\u001b[0;34m\u001b[0m\u001b[0m\n\u001b[1;32m      3\u001b[0m \u001b[0msent_list\u001b[0m \u001b[0;34m=\u001b[0m \u001b[0mclausie_api\u001b[0m\u001b[0;34m.\u001b[0m\u001b[0mprepare_raw_text\u001b[0m\u001b[0;34m(\u001b[0m\u001b[0mtext\u001b[0m\u001b[0;34m)\u001b[0m\u001b[0;34m\u001b[0m\u001b[0;34m\u001b[0m\u001b[0m\n\u001b[0;32m----> 4\u001b[0;31m \u001b[0msentences\u001b[0m \u001b[0;34m=\u001b[0m \u001b[0mclausie_api\u001b[0m\u001b[0;34m.\u001b[0m\u001b[0mclausie\u001b[0m\u001b[0;34m(\u001b[0m\u001b[0mtext_list\u001b[0m\u001b[0;34m=\u001b[0m\u001b[0msent_list\u001b[0m\u001b[0;34m)\u001b[0m\u001b[0;34m\u001b[0m\u001b[0;34m\u001b[0m\u001b[0m\n\u001b[0m\u001b[1;32m      5\u001b[0m \u001b[0;34m\u001b[0m\u001b[0m\n\u001b[1;32m      6\u001b[0m \u001b[0mtriples\u001b[0m \u001b[0;34m=\u001b[0m \u001b[0;34m{\u001b[0m\u001b[0;34m}\u001b[0m\u001b[0;34m\u001b[0m\u001b[0;34m\u001b[0m\u001b[0m\n",
      "\u001b[0;32m~/btp/knowledge_graph/ClausIE/clockdeco.py\u001b[0m in \u001b[0;36mclocked\u001b[0;34m(*args, **kwargs)\u001b[0m\n\u001b[1;32m      7\u001b[0m         \u001b[0;32mdef\u001b[0m \u001b[0mclocked\u001b[0m\u001b[0;34m(\u001b[0m\u001b[0;34m*\u001b[0m\u001b[0margs\u001b[0m\u001b[0;34m,\u001b[0m\u001b[0;34m**\u001b[0m\u001b[0mkwargs\u001b[0m\u001b[0;34m)\u001b[0m\u001b[0;34m:\u001b[0m\u001b[0;34m\u001b[0m\u001b[0;34m\u001b[0m\u001b[0m\n\u001b[1;32m      8\u001b[0m                 \u001b[0mt0\u001b[0m \u001b[0;34m=\u001b[0m \u001b[0mtime\u001b[0m\u001b[0;34m.\u001b[0m\u001b[0mtime\u001b[0m\u001b[0;34m(\u001b[0m\u001b[0;34m)\u001b[0m\u001b[0;34m\u001b[0m\u001b[0;34m\u001b[0m\u001b[0m\n\u001b[0;32m----> 9\u001b[0;31m                 \u001b[0mresult\u001b[0m \u001b[0;34m=\u001b[0m \u001b[0mfunc\u001b[0m\u001b[0;34m(\u001b[0m\u001b[0;34m*\u001b[0m\u001b[0margs\u001b[0m\u001b[0;34m,\u001b[0m\u001b[0;34m**\u001b[0m\u001b[0mkwargs\u001b[0m\u001b[0;34m)\u001b[0m\u001b[0;34m\u001b[0m\u001b[0;34m\u001b[0m\u001b[0m\n\u001b[0m\u001b[1;32m     10\u001b[0m                 \u001b[0melapsed\u001b[0m \u001b[0;34m=\u001b[0m \u001b[0mtime\u001b[0m\u001b[0;34m.\u001b[0m\u001b[0mtime\u001b[0m\u001b[0;34m(\u001b[0m\u001b[0;34m)\u001b[0m \u001b[0;34m-\u001b[0m \u001b[0mt0\u001b[0m\u001b[0;34m\u001b[0m\u001b[0;34m\u001b[0m\u001b[0m\n\u001b[1;32m     11\u001b[0m                 \u001b[0mname\u001b[0m \u001b[0;34m=\u001b[0m \u001b[0mfunc\u001b[0m\u001b[0;34m.\u001b[0m\u001b[0m__name__\u001b[0m\u001b[0;34m\u001b[0m\u001b[0;34m\u001b[0m\u001b[0m\n",
      "\u001b[0;32m~/btp/knowledge_graph/ClausIE/clausie_api.py\u001b[0m in \u001b[0;36mclausie\u001b[0;34m(text_list, input_parser)\u001b[0m\n\u001b[1;32m     90\u001b[0m \u001b[0;34m\u001b[0m\u001b[0m\n\u001b[1;32m     91\u001b[0m         \u001b[0mnested_lines\u001b[0m \u001b[0;34m=\u001b[0m \u001b[0mread_clausie_output\u001b[0m\u001b[0;34m(\u001b[0m\u001b[0;34m'clausie_output.txt'\u001b[0m\u001b[0;34m)\u001b[0m\u001b[0;34m\u001b[0m\u001b[0;34m\u001b[0m\u001b[0m\n\u001b[0;32m---> 92\u001b[0;31m         \u001b[0msents\u001b[0m \u001b[0;34m=\u001b[0m \u001b[0;34m[\u001b[0m\u001b[0mto_sentence_obj\u001b[0m\u001b[0;34m(\u001b[0m\u001b[0msublines\u001b[0m\u001b[0;34m)\u001b[0m \u001b[0;32mfor\u001b[0m \u001b[0msublines\u001b[0m \u001b[0;32min\u001b[0m \u001b[0mnested_lines\u001b[0m\u001b[0;34m]\u001b[0m\u001b[0;34m\u001b[0m\u001b[0;34m\u001b[0m\u001b[0m\n\u001b[0m\u001b[1;32m     93\u001b[0m \u001b[0;34m\u001b[0m\u001b[0m\n\u001b[1;32m     94\u001b[0m         \u001b[0;31m# returns list over Sentence objects\u001b[0m\u001b[0;34m\u001b[0m\u001b[0;34m\u001b[0m\u001b[0;34m\u001b[0m\u001b[0m\n",
      "\u001b[0;32m~/btp/knowledge_graph/ClausIE/clausie_api.py\u001b[0m in \u001b[0;36m<listcomp>\u001b[0;34m(.0)\u001b[0m\n\u001b[1;32m     90\u001b[0m \u001b[0;34m\u001b[0m\u001b[0m\n\u001b[1;32m     91\u001b[0m         \u001b[0mnested_lines\u001b[0m \u001b[0;34m=\u001b[0m \u001b[0mread_clausie_output\u001b[0m\u001b[0;34m(\u001b[0m\u001b[0;34m'clausie_output.txt'\u001b[0m\u001b[0;34m)\u001b[0m\u001b[0;34m\u001b[0m\u001b[0;34m\u001b[0m\u001b[0m\n\u001b[0;32m---> 92\u001b[0;31m         \u001b[0msents\u001b[0m \u001b[0;34m=\u001b[0m \u001b[0;34m[\u001b[0m\u001b[0mto_sentence_obj\u001b[0m\u001b[0;34m(\u001b[0m\u001b[0msublines\u001b[0m\u001b[0;34m)\u001b[0m \u001b[0;32mfor\u001b[0m \u001b[0msublines\u001b[0m \u001b[0;32min\u001b[0m \u001b[0mnested_lines\u001b[0m\u001b[0;34m]\u001b[0m\u001b[0;34m\u001b[0m\u001b[0;34m\u001b[0m\u001b[0m\n\u001b[0m\u001b[1;32m     93\u001b[0m \u001b[0;34m\u001b[0m\u001b[0m\n\u001b[1;32m     94\u001b[0m         \u001b[0;31m# returns list over Sentence objects\u001b[0m\u001b[0;34m\u001b[0m\u001b[0;34m\u001b[0m\u001b[0;34m\u001b[0m\u001b[0m\n",
      "\u001b[0;32m~/btp/knowledge_graph/ClausIE/clausie_api.py\u001b[0m in \u001b[0;36mto_sentence_obj\u001b[0;34m(sub_lines)\u001b[0m\n\u001b[1;32m     50\u001b[0m \u001b[0;34m\u001b[0m\u001b[0m\n\u001b[1;32m     51\u001b[0m         \u001b[0;31m# each subsequent line is a clause\u001b[0m\u001b[0;34m\u001b[0m\u001b[0;34m\u001b[0m\u001b[0;34m\u001b[0m\u001b[0m\n\u001b[0;32m---> 52\u001b[0;31m         \u001b[0mclause_lines\u001b[0m \u001b[0;34m=\u001b[0m \u001b[0;34m[\u001b[0m\u001b[0msub_lines\u001b[0m\u001b[0;34m[\u001b[0m\u001b[0mi\u001b[0m \u001b[0;34m+\u001b[0m \u001b[0;36m2\u001b[0m \u001b[0;34m+\u001b[0m \u001b[0mk\u001b[0m\u001b[0;34m]\u001b[0m \u001b[0;32mfor\u001b[0m \u001b[0mk\u001b[0m \u001b[0;32min\u001b[0m \u001b[0mrange\u001b[0m\u001b[0;34m(\u001b[0m\u001b[0mnum_clauses\u001b[0m\u001b[0;34m)\u001b[0m\u001b[0;34m]\u001b[0m\u001b[0;34m\u001b[0m\u001b[0;34m\u001b[0m\u001b[0m\n\u001b[0m\u001b[1;32m     53\u001b[0m         \u001b[0;32mfor\u001b[0m \u001b[0mclause\u001b[0m \u001b[0;32min\u001b[0m \u001b[0mclause_lines\u001b[0m\u001b[0;34m:\u001b[0m\u001b[0;34m\u001b[0m\u001b[0;34m\u001b[0m\u001b[0m\n\u001b[1;32m     54\u001b[0m                 \u001b[0mclauses\u001b[0m\u001b[0;34m.\u001b[0m\u001b[0mappend\u001b[0m\u001b[0;34m(\u001b[0m\u001b[0mto_typed_clause\u001b[0m\u001b[0;34m(\u001b[0m\u001b[0mclause\u001b[0m\u001b[0;34m)\u001b[0m\u001b[0;34m)\u001b[0m\u001b[0;34m\u001b[0m\u001b[0;34m\u001b[0m\u001b[0m\n",
      "\u001b[0;31mUnboundLocalError\u001b[0m: local variable 'num_clauses' referenced before assignment"
     ]
    }
   ],
   "source": [
    "text = read_text('../data/preprocessed_text.txt')\n",
    "text = 'Barack Hussein Obama II is an American politician and attorney who served as the 44th president of the United States from 2009 to 2017.Barack Hussein Obama II previously served as a U.S. senator from Illinois from 2005 to 2008 and an Illinois state senator from 1997 to 2004. After graduating from Columbia University in 1983, he worked as a community organizer in Chicago. In 1988, he enrolled in Harvard Law School, where he was the first black person to be president of the Harvard Law Review. Turning to elective politics, he represented the 13th district from 1997 until 2004 in the Illinois Senate, when he ran for the Illinois Senate. Obama received national attention in 2004 with Obama the Illinois Senate the Illinois Senate primary win, Obama well-received July Democratic National Convention keynote address, and Obama landslide November election to the Illinois Senate. In 2008, Obama was nominated for president a year after Obama presidential campaign began, and after a close primary campaign against Hillary Clinton, Obama was elected over Republican nominee John McCain and was inaugurated alongside Joe Biden on January 20, 2009. Nine months later, Obama was named the 2009 Nobel Peace Prize laureate.'\n",
    "sent_list = clausie_api.prepare_raw_text(text)\n",
    "sentences = clausie_api.clausie(text_list=sent_list)\n",
    "\n",
    "triples = {}\n",
    "for sent in sentences:\n",
    "    print(sent)\n",
    "    triples[sent.raw_sentence] = []\n",
    "    for clause in sent.clauses:\n",
    "        print('Clause:', clause)\n",
    "    for triple in sent.triples:\n",
    "        triple = {\n",
    "            'subject': triple[0],\n",
    "            'relation': triple[1],\n",
    "            'object': triple[2]\n",
    "        }\n",
    "        print('Triple:', triple)\n",
    "        triples[sent.raw_sentence].append(triple)\n",
    "\n",
    "\n",
    "write_json(triples, '../data/demo/clausie_triples.json')"
   ]
  },
  {
   "cell_type": "markdown",
   "metadata": {},
   "source": [
    "## OLLIE"
   ]
  },
  {
   "cell_type": "code",
   "execution_count": null,
   "metadata": {},
   "outputs": [],
   "source": [
    "# run `java -Xmx512m -jar ollie-app-latest.jar ../data/preprocessed_text.txt -o ../data/ollie_output.txt -t 0.5 --output-format tabbed`\n",
    "# read triples file of OLLIE and convert to JSON format\n",
    "ollie_output = read_text('../data/ollie_output.txt')\n",
    "triples = {}\n",
    "extractions = ollie_output.split('\\n')\n",
    "title, extractions = extractions[0], extractions[1:]\n",
    "print(title)\n",
    "for extraction in extractions:\n",
    "    print(extraction)\n",
    "    # skip empty line\n",
    "    if not extraction:\n",
    "        continue\n",
    "    extraction = extraction.split('\\t')\n",
    "    if extraction[4] == 'None':\n",
    "        extraction[4] = None\n",
    "    if extraction[5] == 'None':\n",
    "        extraction[5] = None\n",
    "    if extraction[6] not in triples:\n",
    "        triples[extraction[6]] = []\n",
    "    triples[extraction[6]].append({\n",
    "        'subject': [extraction[1]],\n",
    "        'relation': [extraction[2]],\n",
    "        'object': [extraction[3]],\n",
    "        'enabler': extraction[4],\n",
    "        'attribution': extraction[5]  \n",
    "    })\n",
    "\n",
    "write_json(triples, '../data/demo/ollie_triples.json')\n"
   ]
  },
  {
   "cell_type": "markdown",
   "metadata": {},
   "source": [
    "## Stanford OpenIE"
   ]
  },
  {
   "cell_type": "code",
   "execution_count": 4,
   "metadata": {},
   "outputs": [
    {
     "name": "stdout",
     "output_type": "stream",
     "text": [
      "Text: Barack Hussein Obama II is an American politician and attorney who served as the 44th president of the United States from 2009 to 2017.Barack Hussein Obama II previously served as a U.S. senator from Illinois from 2005 to 2008 and an Illinois state senator from 1997 to 2004. After graduating from Columbia University in 1983, he worked as a community organizer in Chicago. In 1988, he enrolled in Harvard Law School, where he was the first black person to be president of the Harvard Law Review. Turning to elective politics, he represented the 13th district from 1997 until 2004 in the Illinois Senate, when he ran for the Illinois Senate. Obama received national attention in 2004 with Obama the Illinois Senate the Illinois Senate primary win, Obama well-received July Democratic National Convention keynote address, and Obama landslide November election to the Illinois Senate. In 2008, Obama was nominated for president a year after Obama presidential campaign began, and after a close primary campaign against Hillary Clinton, Obama was elected over Republican nominee John McCain and was inaugurated alongside Joe Biden on January 20, 2009. Nine months later, Obama was named the 2009 Nobel Peace Prize laureate..\n",
      "Starting server with command: java -Xmx8G -cp /Users/osheensachdev/.stanfordnlp_resources/stanford-corenlp-4.1.0/* edu.stanford.nlp.pipeline.StanfordCoreNLPServer -port 9000 -timeout 60000 -threads 5 -maxCharLength 100000 -quiet True -serverProperties corenlp_server-fe44dc21a66546b1.props -preload openie\n",
      "|- {'subject': 'Barack Hussein Obama II', 'relation': 'is', 'object': 'politician'}\n",
      "|- {'subject': 'II', 'relation': 'is', 'object': 'American'}\n",
      "|- {'subject': 'Barack Hussein Obama II', 'relation': 'is', 'object': 'American politician'}\n",
      "|- {'subject': 'Barack Hussein Obama II', 'relation': 'served as', 'object': 'U.S. senator from Illinois'}\n",
      "|- {'subject': 'Barack Hussein Obama II', 'relation': 'served as', 'object': 'U.S. senator'}\n",
      "|- {'subject': 'Barack Hussein Obama II', 'relation': 'served from', 'object': '2005'}\n",
      "|- {'subject': 'Barack Hussein Obama II', 'relation': 'previously served to', 'object': '2008'}\n",
      "|- {'subject': 'Barack Hussein Obama II', 'relation': 'previously served as', 'object': 'U.S. senator'}\n",
      "|- {'subject': 'Barack Hussein Obama II', 'relation': 'previously served as', 'object': 'U.S. senator from Illinois'}\n",
      "|- {'subject': 'Barack Hussein Obama II', 'relation': 'previously served from', 'object': '2005'}\n",
      "|- {'subject': 'Barack Hussein Obama II', 'relation': 'served to', 'object': '2008'}\n",
      "|- {'subject': 'he', 'relation': 'worked as', 'object': 'community organizer in Chicago'}\n",
      "|- {'subject': 'he', 'relation': 'worked After', 'object': 'graduating'}\n",
      "|- {'subject': 'he', 'relation': 'worked After', 'object': 'graduating from Columbia University'}\n",
      "|- {'subject': 'he', 'relation': 'worked After', 'object': 'graduating from Columbia University in 1983'}\n",
      "|- {'subject': 'he', 'relation': 'worked After', 'object': 'graduating in 1983'}\n",
      "|- {'subject': 'he', 'relation': 'worked as', 'object': 'community organizer'}\n",
      "|- {'subject': 'community organizer', 'relation': 'is in', 'object': 'Chicago'}\n",
      "|- {'subject': 'he', 'relation': 'was', 'object': 'first black person'}\n",
      "|- {'subject': 'he', 'relation': 'be president of', 'object': 'Harvard Law Review'}\n",
      "|- {'subject': 'he', 'relation': 'enrolled In', 'object': '1988'}\n",
      "|- {'subject': 'he', 'relation': 'was', 'object': 'where black person'}\n",
      "|- {'subject': 'he', 'relation': 'was', 'object': 'where first black person'}\n",
      "|- {'subject': 'he', 'relation': 'was', 'object': 'where person'}\n",
      "|- {'subject': 'he', 'relation': 'be', 'object': 'president'}\n",
      "|- {'subject': 'he', 'relation': 'was', 'object': 'black person'}\n",
      "|- {'subject': 'he', 'relation': 'was', 'object': 'person'}\n",
      "|- {'subject': 'he', 'relation': 'was', 'object': 'first person'}\n",
      "|- {'subject': 'he', 'relation': 'enrolled in', 'object': 'Harvard Law School'}\n",
      "|- {'subject': 'he', 'relation': 'was', 'object': 'where first person'}\n",
      "|- {'subject': 'he', 'relation': 'Turning to', 'object': 'elective politics'}\n",
      "|- {'subject': 'he', 'relation': 'Turning to', 'object': 'politics'}\n",
      "|- {'subject': 'he', 'relation': 'ran for', 'object': 'Illinois Senate'}\n",
      "|- {'subject': 'he', 'relation': 'represented', 'object': 'district'}\n",
      "|- {'subject': 'he', 'relation': 'represented district from', 'object': '1997 until 2004'}\n",
      "|- {'subject': 'he', 'relation': 'represented', 'object': '13th district'}\n",
      "|- {'subject': 'he', 'relation': 'represented district in', 'object': 'Illinois Senate'}\n",
      "|- {'subject': 'Obama', 'relation': 'received', 'object': 'attention'}\n",
      "|- {'subject': 'Obama', 'relation': 'received attention with', 'object': 'Obama'}\n",
      "|- {'subject': 'Obama', 'relation': 'received', 'object': 'national attention'}\n",
      "|- {'subject': 'Obama', 'relation': 'received attention in', 'object': '2004'}\n",
      "|- {'subject': 'Obama', 'relation': 'was elected over', 'object': 'nominee John McCain'}\n",
      "|- {'subject': 'Obama', 'relation': 'was', 'object': 'after campaign elected over nominee John McCain'}\n",
      "|- {'subject': 'Obama', 'relation': 'was', 'object': 'after close campaign elected over nominee John McCain'}\n",
      "|- {'subject': 'Obama', 'relation': 'was', 'object': 'inaugurated alongside Joe Biden on January 20 2009'}\n",
      "|- {'subject': 'Obama', 'relation': 'was elected after', 'object': 'close campaign'}\n",
      "|- {'subject': 'Obama', 'relation': 'was elected after', 'object': 'campaign against Hillary Clinton'}\n",
      "|- {'subject': 'Obama', 'relation': 'was', 'object': 'after close primary campaign elected over nominee John McCain'}\n",
      "|- {'subject': 'Obama', 'relation': 'was', 'object': 'inaugurated'}\n",
      "|- {'subject': 'Obama', 'relation': 'was elected after', 'object': 'primary campaign'}\n",
      "|- {'subject': 'Obama', 'relation': 'was elected after', 'object': 'close primary campaign against Hillary Clinton'}\n",
      "|- {'subject': 'Obama', 'relation': 'was', 'object': 'after primary campaign elected over Republican nominee John McCain'}\n",
      "|- {'subject': 'Obama', 'relation': 'was inaugurated alongside', 'object': 'Joe Biden'}\n",
      "|- {'subject': 'Obama', 'relation': 'was', 'object': 'after close primary campaign against Hillary Clinton elected over Republican nominee John McCain'}\n",
      "|- {'subject': 'Obama', 'relation': 'was', 'object': 'after close campaign elected over Republican nominee John McCain'}\n",
      "|- {'subject': 'Obama', 'relation': 'was', 'object': 'after close campaign against Hillary Clinton elected over Republican nominee John McCain'}\n",
      "|- {'subject': 'Obama', 'relation': 'was', 'object': 'elected'}\n",
      "|- {'subject': 'Obama', 'relation': 'was elected after', 'object': 'close campaign against Hillary Clinton'}\n",
      "|- {'subject': 'Obama', 'relation': 'was', 'object': 'after close campaign against Hillary Clinton elected over nominee John McCain'}\n",
      "|- {'subject': 'Obama', 'relation': 'was', 'object': 'after primary campaign against Hillary Clinton elected over Republican nominee John McCain'}\n",
      "|- {'subject': 'Obama', 'relation': 'was', 'object': 'after close primary campaign elected over Republican nominee John McCain'}\n",
      "|- {'subject': 'Obama', 'relation': 'was', 'object': 'after primary campaign elected over nominee John McCain'}\n",
      "|- {'subject': 'Obama', 'relation': 'was nominated In', 'object': '2008'}\n",
      "|- {'subject': 'Obama', 'relation': 'was elected after', 'object': 'close primary campaign'}\n",
      "|- {'subject': 'Obama', 'relation': 'was elected after', 'object': 'primary campaign against Hillary Clinton'}\n",
      "|- {'subject': 'Obama', 'relation': 'was', 'object': 'after campaign against Hillary Clinton elected over Republican nominee John McCain'}\n",
      "|- {'subject': 'Obama', 'relation': 'was', 'object': 'after campaign against Hillary Clinton elected over nominee John McCain'}\n",
      "|- {'subject': 'Obama', 'relation': 'was elected after', 'object': 'campaign'}\n",
      "|- {'subject': 'Obama', 'relation': 'was', 'object': 'nominated'}\n",
      "|- {'subject': 'Obama', 'relation': 'was inaugurated on', 'object': 'January 20 2009'}\n",
      "|- {'subject': 'Obama', 'relation': 'was', 'object': 'after close primary campaign against Hillary Clinton elected over nominee John McCain'}\n",
      "|- {'subject': 'Obama', 'relation': 'was', 'object': 'after primary campaign against Hillary Clinton elected over nominee John McCain'}\n",
      "|- {'subject': 'Obama', 'relation': 'was elected over', 'object': 'Republican nominee John McCain'}\n",
      "|- {'subject': 'Obama', 'relation': 'was nominated for', 'object': 'president'}\n",
      "|- {'subject': 'Obama', 'relation': 'was', 'object': 'after campaign elected over Republican nominee John McCain'}\n",
      "|- {'subject': 'Obama', 'relation': 'was named', 'object': '2009 Nobel Peace Prize laureate'}\n"
     ]
    }
   ],
   "source": [
    "text = read_text('../data/preprocessed_text.txt')\n",
    "text = 'Any problem shall be referred to the UG committee which may refer it to the Senate.'\n",
    "\n",
    "\n",
    "triples = []\n",
    "with StanfordOpenIE() as client:\n",
    "    print('Text: %s.' % text)\n",
    "    for triple in client.annotate(text):\n",
    "        print('|-', triple)\n",
    "        triples.append(triple)\n",
    "\n",
    "\n",
    "write_json({text: triples}, '../data/demo/stanfordopenie_triples.json')"
   ]
  },
  {
   "cell_type": "markdown",
   "metadata": {},
   "source": [
    "## OpenIE5"
   ]
  },
  {
   "cell_type": "code",
   "execution_count": 7,
   "metadata": {},
   "outputs": [],
   "source": [
    "text = read_text('../data/preprocessed_text.txt')\n",
    "text = 'Any problem shall be referred to the UG committee which may refer it to the Senate.'\n",
    "\n",
    "sentences = text.split('\\n')[:-1]\n",
    "\n",
    "# Get tripples from OpenIE5 for the preprocessed text\n",
    "edges = []\n",
    "\n",
    "triples = {}\n",
    "\n",
    "extractor = OpenIE5('http://localhost:8000')\n",
    "for s_no in range(len(sentences)):\n",
    "    sentence = sentences[s_no]\n",
    "    extractions = extractor.extract(sentence)\n",
    "    triples[sentence] = []\n",
    "    for extraction in extractions:\n",
    "        bad_extraction = False\n",
    "        extraction = extraction['extraction']\n",
    "        if len(extraction['arg1']['text'].split()) > 5:\n",
    "            bad_extraction = True\n",
    "    # \t\tprint(extraction['arg1']['text'], '|', extraction['rel']['text'] , '|', *[extraction['arg2s'][i]['text'] + ',' for i in range(len(extraction['arg2s']))], extraction['negated'])\n",
    "\n",
    "        triples[sentence].append({\n",
    "            'subject' : extraction['arg1']['text'], \n",
    "            'relation': extraction['rel']['text'], \n",
    "            'object': [e['text'] for e in extraction['arg2s']],\n",
    "            'negated': extraction['negated']\n",
    "        })\n",
    "    \n",
    "        edges.append({'$' + str(s_no), extraction['rel']['text'], extraction['arg1']['text']})\n",
    "        for i in range(len(extraction['arg2s'])):\n",
    "            if len(extraction['arg2s'][i]['text'].split()) > 5:\n",
    "                bad_extraction = True\n",
    "            edges.append(['$' + str(s_no), 'object', extraction['arg2s'][i]['text']])\n",
    "        if extraction['negated']:\n",
    "            edges.append(['$' + str(s_no), 'type', 'Don\\'t'])"
   ]
  },
  {
   "cell_type": "code",
   "execution_count": 10,
   "metadata": {},
   "outputs": [],
   "source": [
    "write_json(triples, '../data/openie5_triples.json')"
   ]
  }
 ],
 "metadata": {
  "kernelspec": {
   "display_name": "Python 3",
   "language": "python",
   "name": "python3"
  },
  "language_info": {
   "codemirror_mode": {
    "name": "ipython",
    "version": 3
   },
   "file_extension": ".py",
   "mimetype": "text/x-python",
   "name": "python",
   "nbconvert_exporter": "python",
   "pygments_lexer": "ipython3",
   "version": "3.8.2"
  }
 },
 "nbformat": 4,
 "nbformat_minor": 4
}
