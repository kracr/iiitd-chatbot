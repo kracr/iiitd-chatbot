{
  "nbformat": 4,
  "nbformat_minor": 0,
  "metadata": {
    "colab": {
      "name": "OCR_pdf_text.ipynb",
      "provenance": [],
      "collapsed_sections": []
    },
    "kernelspec": {
      "name": "python3",
      "display_name": "Python 3"
    },
    "accelerator": "GPU"
  },
  "cells": [
    {
      "cell_type": "code",
      "metadata": {
        "colab": {
          "base_uri": "https://localhost:8080/"
        },
        "id": "OrFlUWoNC4Tq",
        "outputId": "61d5d79c-ba96-4ac6-9f47-df62a12c9be0"
      },
      "source": [
        "!pip install pytesseract\r\n",
        "!pip install pdf2image"
      ],
      "execution_count": null,
      "outputs": [
        {
          "output_type": "stream",
          "text": [
            "Requirement already satisfied: pytesseract in /usr/local/lib/python3.6/dist-packages (0.3.7)\n",
            "Requirement already satisfied: Pillow in /usr/local/lib/python3.6/dist-packages (from pytesseract) (7.0.0)\n",
            "Requirement already satisfied: pdf2image in /usr/local/lib/python3.6/dist-packages (1.14.0)\n",
            "Requirement already satisfied: pillow in /usr/local/lib/python3.6/dist-packages (from pdf2image) (7.0.0)\n"
          ],
          "name": "stdout"
        }
      ]
    },
    {
      "cell_type": "code",
      "metadata": {
        "colab": {
          "base_uri": "https://localhost:8080/"
        },
        "id": "DIwohI08zOYZ",
        "outputId": "9405f9c6-b743-4235-8d68-47c7b4080163"
      },
      "source": [
        "!apt-get install poppler-utils \r\n",
        "!apt install tesseract-ocr"
      ],
      "execution_count": null,
      "outputs": [
        {
          "output_type": "stream",
          "text": [
            "Reading package lists... Done\n",
            "Building dependency tree       \n",
            "Reading state information... Done\n",
            "poppler-utils is already the newest version (0.62.0-2ubuntu2.12).\n",
            "0 upgraded, 0 newly installed, 0 to remove and 10 not upgraded.\n",
            "Reading package lists... Done\n",
            "Building dependency tree       \n",
            "Reading state information... Done\n",
            "The following additional packages will be installed:\n",
            "  tesseract-ocr-eng tesseract-ocr-osd\n",
            "The following NEW packages will be installed:\n",
            "  tesseract-ocr tesseract-ocr-eng tesseract-ocr-osd\n",
            "0 upgraded, 3 newly installed, 0 to remove and 10 not upgraded.\n",
            "Need to get 4,795 kB of archives.\n",
            "After this operation, 15.8 MB of additional disk space will be used.\n",
            "Get:1 http://archive.ubuntu.com/ubuntu bionic/universe amd64 tesseract-ocr-eng all 4.00~git24-0e00fe6-1.2 [1,588 kB]\n",
            "Get:2 http://archive.ubuntu.com/ubuntu bionic/universe amd64 tesseract-ocr-osd all 4.00~git24-0e00fe6-1.2 [2,989 kB]\n",
            "Get:3 http://archive.ubuntu.com/ubuntu bionic/universe amd64 tesseract-ocr amd64 4.00~git2288-10f4998a-2 [218 kB]\n",
            "Fetched 4,795 kB in 3s (1,500 kB/s)\n",
            "Selecting previously unselected package tesseract-ocr-eng.\n",
            "(Reading database ... 146470 files and directories currently installed.)\n",
            "Preparing to unpack .../tesseract-ocr-eng_4.00~git24-0e00fe6-1.2_all.deb ...\n",
            "Unpacking tesseract-ocr-eng (4.00~git24-0e00fe6-1.2) ...\n",
            "Selecting previously unselected package tesseract-ocr-osd.\n",
            "Preparing to unpack .../tesseract-ocr-osd_4.00~git24-0e00fe6-1.2_all.deb ...\n",
            "Unpacking tesseract-ocr-osd (4.00~git24-0e00fe6-1.2) ...\n",
            "Selecting previously unselected package tesseract-ocr.\n",
            "Preparing to unpack .../tesseract-ocr_4.00~git2288-10f4998a-2_amd64.deb ...\n",
            "Unpacking tesseract-ocr (4.00~git2288-10f4998a-2) ...\n",
            "Setting up tesseract-ocr-osd (4.00~git24-0e00fe6-1.2) ...\n",
            "Setting up tesseract-ocr-eng (4.00~git24-0e00fe6-1.2) ...\n",
            "Setting up tesseract-ocr (4.00~git2288-10f4998a-2) ...\n",
            "Processing triggers for man-db (2.8.3-2ubuntu0.1) ...\n"
          ],
          "name": "stdout"
        }
      ]
    },
    {
      "cell_type": "code",
      "metadata": {
        "id": "5UPvt-6tCzpK"
      },
      "source": [
        "from PIL import Image \r\n",
        "import pytesseract \r\n",
        "import sys \r\n",
        "from pdf2image import convert_from_path \r\n",
        "import os \r\n",
        "pytesseract.pytesseract.tesseract_cmd = r'/usr/bin/tesseract'"
      ],
      "execution_count": null,
      "outputs": []
    },
    {
      "cell_type": "code",
      "metadata": {
        "colab": {
          "base_uri": "https://localhost:8080/"
        },
        "id": "34Tdyox1DI9e",
        "outputId": "7c117761-50c4-46b0-97c5-fd079e71371e"
      },
      "source": [
        "# Path of the pdf \r\n",
        "PDF_file = \"student_handbook2.pdf\"\r\n",
        "  \r\n",
        "\r\n",
        "pages = convert_from_path(PDF_file) \r\n",
        "image_counter = 1\r\n",
        "f = open(\"Outfile_text.txt\",\"a\")\r\n",
        "# Iterate through all the pages stored above \r\n",
        "for page in pages: \r\n",
        "    print(image_counter)\r\n",
        "    # Declaring filename for each page of PDF as JPG \r\n",
        "    # For each page, filename will be: \r\n",
        "    # PDF page 1 -> page_1.jpg \r\n",
        "    # PDF page 2 -> page_2.jpg \r\n",
        "    filename = \"page_\"+str(image_counter)+\".jpg\"\r\n",
        "    page.save(filename, 'JPEG') \r\n",
        "          \r\n",
        "    # Recognize the text as string in image using pytesserct \r\n",
        "    text = str(((pytesseract.image_to_string(Image.open(filename))))) \r\n",
        "  \r\n",
        "    # The recognized text is stored in variable text \r\n",
        "    # Any string processing may be applied on text \r\n",
        "    # Here, basic formatting has been done: \r\n",
        "    # In many PDFs, at line ending, if a word can't \r\n",
        "    # be written fully, a 'hyphen' is added. \r\n",
        "    # The rest of the word is written in the next line \r\n",
        "    # Eg: This is a sample text this word here GeeksF- \r\n",
        "    # orGeeks is half on first line, remaining on next. \r\n",
        "    # To remove this, we replace every '-\\n' to ''.\r\n",
        "    image_counter += 1 \r\n",
        "    text = text.replace('-\\n', '')     \r\n",
        "    f.write(text) \r\n",
        "  \r\n",
        "# Close the file after writing all the text. \r\n",
        "f.close() "
      ],
      "execution_count": null,
      "outputs": [
        {
          "output_type": "stream",
          "text": [
            "1\n",
            "1\n",
            "1\n",
            "1\n",
            "1\n",
            "1\n",
            "1\n",
            "1\n",
            "1\n",
            "1\n",
            "1\n",
            "1\n",
            "1\n",
            "1\n",
            "1\n",
            "1\n",
            "1\n",
            "1\n",
            "1\n",
            "1\n",
            "1\n",
            "1\n",
            "1\n",
            "1\n",
            "1\n",
            "1\n",
            "1\n",
            "1\n",
            "1\n",
            "1\n",
            "1\n",
            "1\n",
            "1\n",
            "1\n",
            "1\n",
            "1\n",
            "1\n",
            "1\n",
            "1\n",
            "1\n",
            "1\n",
            "1\n",
            "1\n",
            "1\n",
            "1\n",
            "1\n",
            "1\n",
            "1\n",
            "1\n",
            "1\n",
            "1\n",
            "1\n",
            "1\n",
            "1\n",
            "1\n",
            "1\n"
          ],
          "name": "stdout"
        }
      ]
    }
  ]
}