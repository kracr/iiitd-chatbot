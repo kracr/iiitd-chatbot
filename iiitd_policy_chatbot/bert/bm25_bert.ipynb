{
 "cells": [
  {
   "cell_type": "code",
   "execution_count": 1,
   "metadata": {
    "colab": {
     "base_uri": "https://localhost:8080/"
    },
    "id": "FQJY9PsKC9ds",
    "outputId": "157e989d-c279-4e52-bb5f-b1415ffad4a6"
   },
   "outputs": [
    {
     "name": "stdout",
     "output_type": "stream",
     "text": [
      "Requirement already satisfied: transformers in c:\\users\\mohni\\appdata\\local\\programs\\python\\python38\\lib\\site-packages (4.2.2)\n",
      "Requirement already satisfied: tqdm>=4.27 in c:\\users\\mohni\\appdata\\local\\programs\\python\\python38\\lib\\site-packages (from transformers) (4.52.0)\n",
      "Requirement already satisfied: sacremoses in c:\\users\\mohni\\appdata\\local\\programs\\python\\python38\\lib\\site-packages (from transformers) (0.0.43)\n",
      "Requirement already satisfied: regex!=2019.12.17 in c:\\users\\mohni\\appdata\\local\\programs\\python\\python38\\lib\\site-packages (from transformers) (2020.11.13)"
     ]
    },
    {
     "name": "stderr",
     "output_type": "stream",
     "text": [
      "WARNING: You are using pip version 21.0; however, version 21.0.1 is available.\n",
      "You should consider upgrading via the 'c:\\users\\mohni\\appdata\\local\\programs\\python\\python38\\python.exe -m pip install --upgrade pip' command.\n"
     ]
    },
    {
     "name": "stdout",
     "output_type": "stream",
     "text": [
      "\n",
      "Requirement already satisfied: numpy in c:\\users\\mohni\\appdata\\local\\programs\\python\\python38\\lib\\site-packages (from transformers) (1.18.2)\n",
      "Requirement already satisfied: tokenizers==0.9.4 in c:\\users\\mohni\\appdata\\local\\programs\\python\\python38\\lib\\site-packages (from transformers) (0.9.4)\n",
      "Requirement already satisfied: packaging in c:\\users\\mohni\\appdata\\local\\programs\\python\\python38\\lib\\site-packages (from transformers) (20.4)\n",
      "Requirement already satisfied: filelock in c:\\users\\mohni\\appdata\\local\\programs\\python\\python38\\lib\\site-packages (from transformers) (3.0.12)\n",
      "Requirement already satisfied: requests in c:\\users\\mohni\\appdata\\local\\programs\\python\\python38\\lib\\site-packages (from transformers) (2.24.0)\n",
      "Requirement already satisfied: pyparsing>=2.0.2 in c:\\users\\mohni\\appdata\\local\\programs\\python\\python38\\lib\\site-packages (from packaging->transformers) (2.4.7)\n",
      "Requirement already satisfied: six in c:\\users\\mohni\\appdata\\local\\programs\\python\\python38\\lib\\site-packages (from packaging->transformers) (1.14.0)\n",
      "Requirement already satisfied: idna<3,>=2.5 in c:\\users\\mohni\\appdata\\local\\programs\\python\\python38\\lib\\site-packages (from requests->transformers) (2.10)\n",
      "Requirement already satisfied: urllib3!=1.25.0,!=1.25.1,<1.26,>=1.21.1 in c:\\users\\mohni\\appdata\\local\\programs\\python\\python38\\lib\\site-packages (from requests->transformers) (1.25.10)\n",
      "Requirement already satisfied: chardet<4,>=3.0.2 in c:\\users\\mohni\\appdata\\local\\programs\\python\\python38\\lib\\site-packages (from requests->transformers) (3.0.4)\n",
      "Requirement already satisfied: certifi>=2017.4.17 in c:\\users\\mohni\\appdata\\local\\programs\\python\\python38\\lib\\site-packages (from requests->transformers) (2020.6.20)\n",
      "Requirement already satisfied: click in c:\\users\\mohni\\appdata\\local\\programs\\python\\python38\\lib\\site-packages (from sacremoses->transformers) (7.1.2)\n",
      "Requirement already satisfied: joblib in c:\\users\\mohni\\appdata\\local\\programs\\python\\python38\\lib\\site-packages (from sacremoses->transformers) (0.14.1)\n",
      "Requirement already satisfied: gensim in c:\\users\\mohni\\appdata\\local\\programs\\python\\python38\\lib\\site-packages (3.8.3)\n",
      "Requirement already satisfied: Cython==0.29.14 in c:\\users\\mohni\\appdata\\local\\programs\\python\\python38\\lib\\site-packages (from gensim) (0.29.14)\n",
      "Requirement already satisfied: smart-open>=1.8.1 in c:\\users\\mohni\\appdata\\local\\programs\\python\\python38\\lib\\site-packages (from gensim) (4.1.2)\n"
     ]
    },
    {
     "name": "stderr",
     "output_type": "stream",
     "text": [
      "WARNING: You are using pip version 21.0; however, version 21.0.1 is available.\n",
      "You should consider upgrading via the 'c:\\users\\mohni\\appdata\\local\\programs\\python\\python38\\python.exe -m pip install --upgrade pip' command.\n"
     ]
    },
    {
     "name": "stdout",
     "output_type": "stream",
     "text": [
      "Requirement already satisfied: numpy>=1.11.3 in c:\\users\\mohni\\appdata\\local\\programs\\python\\python38\\lib\\site-packages (from gensim) (1.18.2)\n",
      "Requirement already satisfied: scipy>=0.18.1 in c:\\users\\mohni\\appdata\\local\\programs\\python\\python38\\lib\\site-packages (from gensim) (1.4.1)\n",
      "Requirement already satisfied: six>=1.5.0 in c:\\users\\mohni\\appdata\\local\\programs\\python\\python38\\lib\\site-packages (from gensim) (1.14.0)\n"
     ]
    }
   ],
   "source": [
    "!pip install transformers\n",
    "!pip install gensim"
   ]
  },
  {
   "cell_type": "markdown",
   "metadata": {
    "id": "aJU2Wj8uCxqP"
   },
   "source": [
    "Importing required modules\n"
   ]
  },
  {
   "cell_type": "code",
   "execution_count": 2,
   "metadata": {
    "id": "4g5E8IdmCRep"
   },
   "outputs": [],
   "source": [
    "import itertools\n",
    "import os\n",
    "from gensim.summarization.bm25 import BM25\n",
    "from transformers import AutoTokenizer, AutoModelForQuestionAnswering, QuestionAnsweringPipeline\n",
    "import json\n",
    "import spacy"
   ]
  },
  {
   "cell_type": "code",
   "execution_count": 3,
   "metadata": {
    "id": "88_n9dI2DAz4"
   },
   "outputs": [],
   "source": [
    "class PassageRetrieval:\n",
    "\n",
    "    def __init__(self, nlp):\n",
    "        self.tokenize = lambda text: [token.lemma_ for token in nlp(text)]\n",
    "        self.bm25 = None\n",
    "        self.passages = None\n",
    "\n",
    "    def preprocess(self, doc):\n",
    "        passages = [p for p in doc.split('\\n') if p and not p.startswith('=')]\n",
    "        return passages\n",
    "\n",
    "    def fit(self, docs):\n",
    "        # passages = list(itertools.chain(*map(self.preprocess, docs)))\n",
    "        corpus = [self.tokenize(p) for p in passages]\n",
    "        self.bm25 = BM25(corpus)\n",
    "        self.passages = passages\n",
    "\n",
    "    def most_similar(self, question, topn=10):\n",
    "        tokens = self.tokenize(question)\n",
    "        average_idf = sum(map(lambda k: float(self.bm25.idf[k]), self.bm25.idf.keys())) / len(self.bm25.idf.keys())\n",
    "        scores = self.bm25.get_scores(tokens, average_idf)\n",
    "        pairs = [(s, i) for i, s in enumerate(scores)]\n",
    "        pairs.sort(reverse=True)\n",
    "        passages = [self.passages[i] for _, i in pairs[:topn]]\n",
    "        return passages"
   ]
  },
  {
   "cell_type": "code",
   "execution_count": 4,
   "metadata": {
    "id": "l3Ozu-cuVkKW"
   },
   "outputs": [],
   "source": [
    "class bert:\n",
    "\n",
    "    def __init__(self, model):\n",
    "        self.tokenizer = AutoTokenizer.from_pretrained(model)\n",
    "        self.model = AutoModelForQuestionAnswering.from_pretrained(\"/bert_policy_documents\")\n",
    "        self.bert = QuestionAnsweringPipeline(model = self.model, tokenizer = self.tokenizer)\n",
    "  \n",
    "    def evaluateAnswer(self, question, sentence):\n",
    "        answer = self.bert(question = question, context = sentence)\n",
    "        return answer"
   ]
  },
  {
   "cell_type": "code",
   "execution_count": 5,
   "metadata": {
    "id": "J-mw2AeDgubZ"
   },
   "outputs": [],
   "source": [
    "def completeAnswer(answer, para):\n",
    "    for p in para:\n",
    "        if answer in p:\n",
    "            return p\n",
    "    return None"
   ]
  },
  {
   "cell_type": "code",
   "execution_count": 6,
   "metadata": {
    "id": "ehXtdUgwCw-R"
   },
   "outputs": [],
   "source": [
    "def getPassages(filename):\n",
    "    with open(filename) as file:\n",
    "        data = json.load(file)\n",
    "    passages = list()\n",
    "    for i in data[\"vertices\"][\"paragraphs\"]:\n",
    "        passages.append(i[\"text\"])\n",
    "    return passages"
   ]
  },
  {
   "cell_type": "code",
   "execution_count": 8,
   "metadata": {
    "id": "IRk5CyljEUVD"
   },
   "outputs": [],
   "source": [
    "passages = getPassages(\"../data/handbook_graph.json\")"
   ]
  },
  {
   "cell_type": "code",
   "execution_count": 9,
   "metadata": {
    "colab": {
     "base_uri": "https://localhost:8080/"
    },
    "id": "5Xp7lSx6GNFh",
    "outputId": "4b7733f6-159d-4170-e32f-c05f8d025285"
   },
   "outputs": [
    {
     "ename": "OSError",
     "evalue": "[E050] Can't find model 'en_core_web_sm'. It doesn't seem to be a shortcut link, a Python package or a valid path to a data directory.",
     "output_type": "error",
     "traceback": [
      "\u001b[1;31m---------------------------------------------------------------------------\u001b[0m",
      "\u001b[1;31mOSError\u001b[0m                                   Traceback (most recent call last)",
      "\u001b[1;32m<ipython-input-9-fdbbdc212ec4>\u001b[0m in \u001b[0;36m<module>\u001b[1;34m\u001b[0m\n\u001b[0;32m      1\u001b[0m \u001b[0mSPACY_MODEL\u001b[0m \u001b[1;33m=\u001b[0m \u001b[0mos\u001b[0m\u001b[1;33m.\u001b[0m\u001b[0menviron\u001b[0m\u001b[1;33m.\u001b[0m\u001b[0mget\u001b[0m\u001b[1;33m(\u001b[0m\u001b[1;34m\"SPACY_MODEL\"\u001b[0m\u001b[1;33m,\u001b[0m \u001b[1;34m\"en_core_web_sm\"\u001b[0m\u001b[1;33m)\u001b[0m\u001b[1;33m\u001b[0m\u001b[1;33m\u001b[0m\u001b[0m\n\u001b[1;32m----> 2\u001b[1;33m \u001b[0mnlp\u001b[0m \u001b[1;33m=\u001b[0m \u001b[0mspacy\u001b[0m\u001b[1;33m.\u001b[0m\u001b[0mload\u001b[0m\u001b[1;33m(\u001b[0m\u001b[0mSPACY_MODEL\u001b[0m\u001b[1;33m,\u001b[0m \u001b[0mdisable\u001b[0m \u001b[1;33m=\u001b[0m \u001b[1;33m[\u001b[0m\u001b[1;34m\"ner\"\u001b[0m\u001b[1;33m,\u001b[0m\u001b[1;34m\"parser\"\u001b[0m\u001b[1;33m,\u001b[0m\u001b[1;34m\"textcat\"\u001b[0m\u001b[1;33m]\u001b[0m\u001b[1;33m)\u001b[0m\u001b[1;33m\u001b[0m\u001b[1;33m\u001b[0m\u001b[0m\n\u001b[0m\u001b[0;32m      3\u001b[0m \u001b[1;33m\u001b[0m\u001b[0m\n\u001b[0;32m      4\u001b[0m \u001b[1;33m\u001b[0m\u001b[0m\n\u001b[0;32m      5\u001b[0m \u001b[0mretreivePassage\u001b[0m \u001b[1;33m=\u001b[0m \u001b[0mPassageRetrieval\u001b[0m\u001b[1;33m(\u001b[0m\u001b[0mnlp\u001b[0m\u001b[1;33m)\u001b[0m\u001b[1;33m\u001b[0m\u001b[1;33m\u001b[0m\u001b[0m\n",
      "\u001b[1;32mc:\\users\\mohni\\appdata\\local\\programs\\python\\python38\\lib\\site-packages\\spacy\\__init__.py\u001b[0m in \u001b[0;36mload\u001b[1;34m(name, **overrides)\u001b[0m\n\u001b[0;32m     28\u001b[0m     \u001b[1;32mif\u001b[0m \u001b[0mdepr_path\u001b[0m \u001b[1;32mnot\u001b[0m \u001b[1;32min\u001b[0m \u001b[1;33m(\u001b[0m\u001b[1;32mTrue\u001b[0m\u001b[1;33m,\u001b[0m \u001b[1;32mFalse\u001b[0m\u001b[1;33m,\u001b[0m \u001b[1;32mNone\u001b[0m\u001b[1;33m)\u001b[0m\u001b[1;33m:\u001b[0m\u001b[1;33m\u001b[0m\u001b[1;33m\u001b[0m\u001b[0m\n\u001b[0;32m     29\u001b[0m         \u001b[0mwarnings\u001b[0m\u001b[1;33m.\u001b[0m\u001b[0mwarn\u001b[0m\u001b[1;33m(\u001b[0m\u001b[0mWarnings\u001b[0m\u001b[1;33m.\u001b[0m\u001b[0mW001\u001b[0m\u001b[1;33m.\u001b[0m\u001b[0mformat\u001b[0m\u001b[1;33m(\u001b[0m\u001b[0mpath\u001b[0m\u001b[1;33m=\u001b[0m\u001b[0mdepr_path\u001b[0m\u001b[1;33m)\u001b[0m\u001b[1;33m,\u001b[0m \u001b[0mDeprecationWarning\u001b[0m\u001b[1;33m)\u001b[0m\u001b[1;33m\u001b[0m\u001b[1;33m\u001b[0m\u001b[0m\n\u001b[1;32m---> 30\u001b[1;33m     \u001b[1;32mreturn\u001b[0m \u001b[0mutil\u001b[0m\u001b[1;33m.\u001b[0m\u001b[0mload_model\u001b[0m\u001b[1;33m(\u001b[0m\u001b[0mname\u001b[0m\u001b[1;33m,\u001b[0m \u001b[1;33m**\u001b[0m\u001b[0moverrides\u001b[0m\u001b[1;33m)\u001b[0m\u001b[1;33m\u001b[0m\u001b[1;33m\u001b[0m\u001b[0m\n\u001b[0m\u001b[0;32m     31\u001b[0m \u001b[1;33m\u001b[0m\u001b[0m\n\u001b[0;32m     32\u001b[0m \u001b[1;33m\u001b[0m\u001b[0m\n",
      "\u001b[1;32mc:\\users\\mohni\\appdata\\local\\programs\\python\\python38\\lib\\site-packages\\spacy\\util.py\u001b[0m in \u001b[0;36mload_model\u001b[1;34m(name, **overrides)\u001b[0m\n\u001b[0;32m    173\u001b[0m     \u001b[1;32melif\u001b[0m \u001b[0mhasattr\u001b[0m\u001b[1;33m(\u001b[0m\u001b[0mname\u001b[0m\u001b[1;33m,\u001b[0m \u001b[1;34m\"exists\"\u001b[0m\u001b[1;33m)\u001b[0m\u001b[1;33m:\u001b[0m  \u001b[1;31m# Path or Path-like to model data\u001b[0m\u001b[1;33m\u001b[0m\u001b[1;33m\u001b[0m\u001b[0m\n\u001b[0;32m    174\u001b[0m         \u001b[1;32mreturn\u001b[0m \u001b[0mload_model_from_path\u001b[0m\u001b[1;33m(\u001b[0m\u001b[0mname\u001b[0m\u001b[1;33m,\u001b[0m \u001b[1;33m**\u001b[0m\u001b[0moverrides\u001b[0m\u001b[1;33m)\u001b[0m\u001b[1;33m\u001b[0m\u001b[1;33m\u001b[0m\u001b[0m\n\u001b[1;32m--> 175\u001b[1;33m     \u001b[1;32mraise\u001b[0m \u001b[0mIOError\u001b[0m\u001b[1;33m(\u001b[0m\u001b[0mErrors\u001b[0m\u001b[1;33m.\u001b[0m\u001b[0mE050\u001b[0m\u001b[1;33m.\u001b[0m\u001b[0mformat\u001b[0m\u001b[1;33m(\u001b[0m\u001b[0mname\u001b[0m\u001b[1;33m=\u001b[0m\u001b[0mname\u001b[0m\u001b[1;33m)\u001b[0m\u001b[1;33m)\u001b[0m\u001b[1;33m\u001b[0m\u001b[1;33m\u001b[0m\u001b[0m\n\u001b[0m\u001b[0;32m    176\u001b[0m \u001b[1;33m\u001b[0m\u001b[0m\n\u001b[0;32m    177\u001b[0m \u001b[1;33m\u001b[0m\u001b[0m\n",
      "\u001b[1;31mOSError\u001b[0m: [E050] Can't find model 'en_core_web_sm'. It doesn't seem to be a shortcut link, a Python package or a valid path to a data directory."
     ]
    }
   ],
   "source": [
    "SPACY_MODEL = os.environ.get(\"SPACY_MODEL\", \"en_core_web_sm\")\n",
    "nlp = spacy.load(SPACY_MODEL, disable = [\"ner\",\"parser\",\"textcat\"])\n",
    "\n",
    "\n",
    "retreivePassage = PassageRetrieval(nlp)\n",
    "retreivePassage.fit(passages)\n",
    "bertModel = bert(\"deepset/bert-base-cased-squad2\")\n",
    "\n",
    "# questions = [\n",
    "#              \"How do I calculate cgpa\",\n",
    "#              \"What is the normal load for UG students\",\n",
    "#              \"If I fail a course and take it again in the later semester, will my earlier course with F grade be removed from the transcript\",\n",
    "#             \" what is the process of registration?\",\n",
    "#             \"how many seats are there in cse for admission?\",\n",
    "#              \" what is the admission criteria for btech\",\n",
    "#              \"I am in 1st year. Can I take overload?\",\n",
    "#              \"I am in 2nd year. Can I take overload?\",\n",
    "#              \"what happens if I miss the endsem because of a medical reason?\",\n",
    "#              \"what happens if I fail a course?\",\n",
    "#              \" what happens if I get an F grade in a course?\",\n",
    "#              \"How can I calculate sgpa\",\n",
    "#              \"What if I pass all my semesters\",\n",
    "#              \"What about canteen\",\n",
    "#              \"Will I get hostel\",\n",
    "#              \"I dont know anything about IIIT\",\n",
    "#              \"Who was abraham lincoln\",\n",
    "#              \"Can i take 8 credits of online courses in a semester\",\n",
    "#              \"how many credits do i need to graduate\",\n",
    "#              \"how is my semester graded\",\n",
    "#              \"what if I do more than 156 credits in my btech course\"\n",
    "# ]\n",
    "questions = [\n",
    "             \"can I take up internships during a semester?\",\n",
    "              \"what is the i grade\",\n",
    "              \"can I replace a core course on getting an F grade?\",\n",
    "              \"how can I get the grade given to me in a course changed?\",\n",
    "              \"how will my cgpa be computed if I do more than 156 credits?\",\n",
    "              \"is there any rule for attendance?\",\n",
    "              \"how can I apply for a semester leave?\",\n",
    "              \"how can I apply for branch transfer from ece to cse\",\n",
    "              \"what is the minimum credit requirement for graduation?\",\n",
    "              \"what are the requirements to get an honours degree?\",\n",
    "              \"when is the convocation held?\"\n",
    "]\n",
    "for q in questions:\n",
    "  topAnswer = retreivePassage.most_similar(q, topn = 6)\n",
    "  # print(topAnswer)\n",
    "  sentence = \"\"\n",
    "  for i in topAnswer:\n",
    "    # print(i)\n",
    "    sentence += i + \" \"\n",
    "  ans = bertModel.evaluateAnswer(q, sentence)\n",
    "  print(len(sentence.split()))\n",
    "  print(\"Q:\",q)\n",
    "  print(\"Ans:\",completeAnswer(ans[\"answer\"], topAnswer))\n",
    "  # print(len(sentence.split()))\n",
    "  print(\"---------------------\")"
   ]
  },
  {
   "cell_type": "code",
   "execution_count": null,
   "metadata": {},
   "outputs": [],
   "source": []
  }
 ],
 "metadata": {
  "colab": {
   "name": "bm25_bert.ipynb",
   "provenance": []
  },
  "kernelspec": {
   "display_name": "Python 3",
   "language": "python",
   "name": "python3"
  },
  "language_info": {
   "codemirror_mode": {
    "name": "ipython",
    "version": 3
   },
   "file_extension": ".py",
   "mimetype": "text/x-python",
   "name": "python",
   "nbconvert_exporter": "python",
   "pygments_lexer": "ipython3",
   "version": "3.8.2"
  }
 },
 "nbformat": 4,
 "nbformat_minor": 1
}
